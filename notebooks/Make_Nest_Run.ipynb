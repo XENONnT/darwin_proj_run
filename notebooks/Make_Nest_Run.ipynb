{
 "cells": [
  {
   "cell_type": "code",
   "execution_count": 1,
   "metadata": {},
   "outputs": [],
   "source": [
    "%load_ext autoreload\n",
    "%autoreload 2"
   ]
  },
  {
   "cell_type": "code",
   "execution_count": 3,
   "metadata": {},
   "outputs": [],
   "source": [
    "import numpy as np\n",
    "import scipy.stats as sps\n",
    "import matplotlib.pyplot as plt\n",
    "import multihist as mh\n",
    "import pandas as pd\n",
    "import subprocess as subpro\n",
    "import glob\n",
    "from tqdm import tqdm\n",
    "from scipy.interpolate import interp1d\n",
    "import inference_interface"
   ]
  },
  {
   "cell_type": "code",
   "execution_count": 13,
   "metadata": {},
   "outputs": [],
   "source": [
    "fname_pattern =\"nestresults/toyNEST_{rtype:s}_{emin:.3f}_{emax:.3f}_{n_mc}.csv\"\n",
    "call_name = \"./testNEST {n_mc:d} {rtype:s} {emin:.3f} {emax:.3f} -1 -1 &> \" + fname_pattern\n",
    "sbatch_call_name = \"sbatch -o \"+ fname_pattern +\" runpy.sbatch {n_mc:d} {rtype:s} {emin:.3f} {emax:.3f} -1 -1  \" "
   ]
  },
  {
   "cell_type": "code",
   "execution_count": 14,
   "metadata": {
    "scrolled": true
   },
   "outputs": [
    {
     "data": {
      "text/plain": [
       "0"
      ]
     },
     "execution_count": 14,
     "metadata": {},
     "output_type": "execute_result"
    }
   ],
   "source": [
    "subpro.call(sbatch_call_name.format(n_mc = 10, rtype=\"NR\", emin = 2, emax=2).split(\" \"))"
   ]
  },
  {
   "cell_type": "code",
   "execution_count": 5,
   "metadata": {},
   "outputs": [],
   "source": [
    "Emax_ER = 30.\n",
    "Emax_NR = 80.\n",
    "\n",
    "Emin = 0.1\n",
    "\n",
    "nEsteps = 100\n",
    "n_mc = 100000\n",
    "\n",
    "ebin_NR = np.logspace(np.log10(Emin), np.log10(Emax_NR), nEsteps+1)\n",
    "ebin_ER = np.logspace(np.log10(Emin), np.log10(Emax_ER), nEsteps+1)\n",
    "\n",
    "        f.write(call_name.format(rtype=\"NR\" ,emin=emin, emax=emax, n_mc=n_mc)+\"\\n\")\n",
    "    \n",
    "runfile_ER = \"runER.sh\"\n",
    "\n",
    "with open(runfile_ER,\"w\") as f:\n",
    "    for i in range(nEsteps):\n",
    "        emin = ebin_ER[i]\n",
    "        emax = ebin_ER[i+1]\n",
    "        f.write(call_name.format(rtype=\"ER\" ,emin=emin, emax=emax, n_mc=n_mc)+\"\\n\")"
   ]
  },
  {
   "cell_type": "markdown",
   "metadata": {},
   "source": [
    "## Submit NRs"
   ]
  },
  {
   "cell_type": "code",
   "execution_count": 15,
   "metadata": {},
   "outputs": [],
   "source": [
    "for i in range(nEsteps):\n",
    "    emin = ebin_NR[i]\n",
    "    emax = ebin_NR[i+1]\n",
    "    subpro.call(sbatch_call_name.format(n_mc = n_mc, rtype=\"NR\", emin = emin, emax=emax).split(\" \"))"
   ]
  },
  {
   "cell_type": "markdown",
   "metadata": {},
   "source": [
    "## Submit ERs "
   ]
  },
  {
   "cell_type": "code",
   "execution_count": 16,
   "metadata": {},
   "outputs": [],
   "source": [
    "for i in range(nEsteps):\n",
    "    emin = ebin_ER[i]\n",
    "    emax = ebin_ER[i+1]\n",
    "    subpro.call(sbatch_call_name.format(n_mc = n_mc, rtype=\"ER\", emin = emin, emax=emax).split(\" \"))"
   ]
  },
  {
   "cell_type": "markdown",
   "metadata": {},
   "source": [
    "## Collate results in histograms"
   ]
  },
  {
   "cell_type": "code",
   "execution_count": 20,
   "metadata": {},
   "outputs": [],
   "source": [
    "cs1_bins = np.linspace(0,100,101)\n",
    "cs2_bins = np.logspace(np.log10(200),np.log10(10000),101)\n",
    "nrhists = [mh.Histdd(bins=(cs1_bins, cs2_bins)) for i in range(nEsteps)]\n",
    "erhists = [mh.Histdd(bins=(cs1_bins, cs2_bins)) for i in range(nEsteps)]"
   ]
  },
  {
   "cell_type": "code",
   "execution_count": 21,
   "metadata": {},
   "outputs": [
    {
     "name": "stderr",
     "output_type": "stream",
     "text": [
      "100%|██████████| 100/100 [02:22<00:00,  1.43s/it]\n"
     ]
    }
   ],
   "source": [
    "for i in tqdm(range(nEsteps)):\n",
    "    emin = ebin_NR[i]\n",
    "    emax = ebin_NR[i+1]\n",
    "    files = glob.glob(fname_pattern.replace(\"{n_mc}\",\"*\").format(rtype=\"NR\",emin=emin,emax=emax))\n",
    "    #dfs = []\n",
    "    #for f in files:\n",
    "    #    d = pd.read_csv(f, sep='[\\t|,]', engine='python',names=\"E_recon field tDrift X Y Z Nph Ne- S1 S1_3Dcor spikeC Ne-extr S2_rawArea S2_3Dcor\".split(\" \"))\n",
    "    #    dfs.append(d)\n",
    "    #df = pd.concat(dfs)\n",
    "    try:\n",
    "        df = pd.read_csv(files[0], sep='[\\t|,]', engine='python',names=\"E_recon field tDrift X Y Z Nph Ne- S1 S1_3Dcor spikeC Ne-extr S2_rawArea S2_3Dcor\".split(\" \"))\n",
    "        nrhists[i].add(df.S1_3Dcor, df.S2_3Dcor)\n",
    "        nrhists[i] /= n_mc\n",
    "    except:\n",
    "        pass"
   ]
  },
  {
   "cell_type": "code",
   "execution_count": 22,
   "metadata": {},
   "outputs": [
    {
     "name": "stderr",
     "output_type": "stream",
     "text": [
      "100%|██████████| 100/100 [02:23<00:00,  1.44s/it]\n"
     ]
    }
   ],
   "source": [
    "for i in tqdm(range(nEsteps)):\n",
    "    emin = ebin_ER[i]\n",
    "    emax = ebin_ER[i+1]\n",
    "    files = glob.glob(fname_pattern.replace(\"{n_mc}\",\"*\").format(rtype=\"ER\",emin=emin,emax=emax))\n",
    "    dfs = []\n",
    "    for f in files:\n",
    "        d = pd.read_csv(f, sep='[\\t|,]', engine='python',names=\"E_recon field tDrift X Y Z Nph Ne- S1 S1_3Dcor spikeC Ne-extr S2_rawArea S2_3Dcor\".split(\" \"))\n",
    "        dfs.append(d)\n",
    "    df = pd.concat(dfs)\n",
    "    erhists[i].add(df.S1_3Dcor, df.S2_3Dcor)\n",
    "    erhists[i] /= n_mc"
   ]
  },
  {
   "cell_type": "code",
   "execution_count": 27,
   "metadata": {},
   "outputs": [
    {
     "data": {
      "image/png": "[encoded data removed]",
      "text/plain": [
       "<matplotlib.figure.Figure at 0x7fbc70899c50>"
      ]
     },
     "metadata": {
      "needs_background": "light"
     },
     "output_type": "display_data"
    }
   ],
   "source": [
    "effnr = [h.n for h in nrhists]\n",
    "ecnr = 0.5*(ebin_NR[0:-1] + ebin_NR[1::])\n",
    "effer = [h.n for h in erhists]\n",
    "ecer = 0.5*(ebin_ER[0:-1] + ebin_ER[1::])\n",
    "plt.clf()\n",
    "plt.plot(ecnr,effnr)\n",
    "plt.plot(ecer,effer)\n",
    "plt.xscale(\"log\")\n",
    "plt.show()"
   ]
  },
  {
   "cell_type": "code",
   "execution_count": 25,
   "metadata": {},
   "outputs": [],
   "source": [
    "er_total = mh.Histdd(bins=(ebin_ER, cs1_bins, cs2_bins))\n",
    "nr_total = mh.Histdd(bins=(ebin_ER, cs1_bins, cs2_bins))\n",
    "for i,erhist in enumerate(erhists):\n",
    "    er_total.histogram[i] = erhist.histogram\n",
    "for i,nrhist in enumerate(nrhists):\n",
    "    nr_total.histogram[i] = nrhist.histogram"
   ]
  },
  {
   "cell_type": "code",
   "execution_count": 26,
   "metadata": {},
   "outputs": [],
   "source": [
    "inference_interface.multihist_to_template([er_total, nr_total],\"../darwin_proj_run/darwin_likelihood/data/NEST_dummyresponse.hdf5\",histogram_names=[\"er\",\"nr\"])"
   ]
  },
  {
   "cell_type": "code",
   "execution_count": null,
   "metadata": {},
   "outputs": [],
   "source": []
  }
 ],
 "metadata": {
  "kernelspec": {
   "display_name": "Python 3",
   "language": "python",
   "name": "python3"
  },
  "language_info": {
   "codemirror_mode": {
    "name": "ipython",
    "version": 3
   },
   "file_extension": ".py",
   "mimetype": "text/x-python",
   "name": "python",
   "nbconvert_exporter": "python",
   "pygments_lexer": "ipython3",
   "version": "3.4.4"
  }
 },
 "nbformat": 4,
 "nbformat_minor": 2
}
