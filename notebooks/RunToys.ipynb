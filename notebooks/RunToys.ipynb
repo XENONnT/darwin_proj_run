{
 "cells": [
  {
   "cell_type": "code",
   "execution_count": 1,
   "metadata": {},
   "outputs": [],
   "source": [
    "%load_ext autoreload\n",
    "%autoreload 2"
   ]
  },
  {
   "cell_type": "code",
   "execution_count": 116,
   "metadata": {},
   "outputs": [],
   "source": [
    "import numpy as np\n",
    "from binference.toymc_running import submit_batch_toymcs, toymc_to_sbatch_call_array, run_toymcs\n",
    "from binference.utils import submit_commandline_calls\n",
    "from inference_interface import toyfiles_to_numpy\n",
    "import matplotlib.pyplot as plt\n",
    "import scipy.stats as sps\n",
    "from tqdm import tqdm\n",
    "from scipy.interpolate import interp1d\n",
    "import h5py\n",
    "from json import loads\n",
    "from glob import glob"
   ]
  },
  {
   "cell_type": "code",
   "execution_count": 3,
   "metadata": {},
   "outputs": [],
   "source": [
    "generate_args_base = dict(\n",
    "    ernusun_rate_multiplier = 1.,\n",
    "    nrnusun_rate_multiplier = 1.,\n",
    "    xe136_rate_multiplier   = 1.,\n",
    "    atmnu_rate_multiplier   = 1.,\n",
    "    snnu_rate_multiplier    = 1.,\n",
    "    signal_rate_multiplier  = 0.,\n",
    "    )\n",
    "fixed_base = dict(\n",
    ")  \n",
    "\n",
    "\n",
    "parameters_to_vary = dict(\n",
    "    wimp_mass = [4,5,6,7,8,10,15,20,30,40,50,70,100,200,300,400,1000],\n",
    "    #livetime = [1,20,100,200,1000],\n",
    "    #livetime = [20,100,200,1000],\n",
    "    livetime = [100,200,1000],\n",
    "    #inference_object_args = [{\"interaction\":i,\"binned\":True} for i in [\"SI\",\"SD_p_central\",\"SD_n_central\",\"WIMPPion\"]],\n",
    "    inference_object_args = [{\"interaction\":i,\"binned\":True} for i in [\"WIMPPion\"]],\n",
    "    #livetime = [1000]\n",
    "    )\n",
    "parameters_to_zip = dict()\n",
    "\n",
    "\n",
    "output_pattern = \"batch_results/toymc_wimpsensiunbinned_wimpmass_{wimp_mass:d}_{inference_object_args[interaction]:s}_livetime_{livetime:.2f}_signal_{signal_expectation:.2f}.hdf5\"\n",
    "parameters_in_common = dict(\n",
    "    extra_args = [{},{\"signal_rate_multiplier\":0.}],\n",
    "    output_filename = output_pattern,\n",
    "    #inference_class_name = \"binference.likelihoods.ll_cevns_1t.InferenceObject\",\n",
    "    inference_class_name = \"darwin_likelihood.darwin_likelihood.InferenceObject\",\n",
    "    signal_component_name=\"signal\",\n",
    "    n_mc = 1000,\n",
    "    n_batch = 5,\n",
    "    execution_time = 80,\n",
    "    limit_threshold = None,\n",
    "    compute_confidence_interval = True,\n",
    "    generate_args = generate_args_base, \n",
    "    extra_args_all = fixed_base, \n",
    "    signal_expectation = 0,\n",
    "    \n",
    ")"
   ]
  },
  {
   "cell_type": "code",
   "execution_count": 4,
   "metadata": {},
   "outputs": [
    {
     "name": "stdout",
     "output_type": "stream",
     "text": [
      "filename batch_results/toymc_wimpsensiunbinned_wimpmass_{wimp_mass:d}_{inference_object_args[interaction]:s}_livetime_{livetime:.2f}_signal_{signal_expectation:.2f}.hdf5\n",
      "filename batch_results/toymc_wimpsensiunbinned_wimpmass_{wimp_mass:d}_{inference_object_args[interaction]:s}_livetime_{livetime:.2f}_signal_{signal_expectation:.2f}.hdf5\n",
      "filename batch_results/toymc_wimpsensiunbinned_wimpmass_{wimp_mass:d}_{inference_object_args[interaction]:s}_livetime_{livetime:.2f}_signal_{signal_expectation:.2f}.hdf5\n",
      "filename batch_results/toymc_wimpsensiunbinned_wimpmass_{wimp_mass:d}_{inference_object_args[interaction]:s}_livetime_{livetime:.2f}_signal_{signal_expectation:.2f}.hdf5\n",
      "filename batch_results/toymc_wimpsensiunbinned_wimpmass_{wimp_mass:d}_{inference_object_args[interaction]:s}_livetime_{livetime:.2f}_signal_{signal_expectation:.2f}.hdf5\n",
      "filename batch_results/toymc_wimpsensiunbinned_wimpmass_{wimp_mass:d}_{inference_object_args[interaction]:s}_livetime_{livetime:.2f}_signal_{signal_expectation:.2f}.hdf5\n",
      "filename batch_results/toymc_wimpsensiunbinned_wimpmass_{wimp_mass:d}_{inference_object_args[interaction]:s}_livetime_{livetime:.2f}_signal_{signal_expectation:.2f}.hdf5\n",
      "filename batch_results/toymc_wimpsensiunbinned_wimpmass_{wimp_mass:d}_{inference_object_args[interaction]:s}_livetime_{livetime:.2f}_signal_{signal_expectation:.2f}.hdf5\n",
      "filename batch_results/toymc_wimpsensiunbinned_wimpmass_{wimp_mass:d}_{inference_object_args[interaction]:s}_livetime_{livetime:.2f}_signal_{signal_expectation:.2f}.hdf5\n",
      "filename batch_results/toymc_wimpsensiunbinned_wimpmass_{wimp_mass:d}_{inference_object_args[interaction]:s}_livetime_{livetime:.2f}_signal_{signal_expectation:.2f}.hdf5\n",
      "filename batch_results/toymc_wimpsensiunbinned_wimpmass_{wimp_mass:d}_{inference_object_args[interaction]:s}_livetime_{livetime:.2f}_signal_{signal_expectation:.2f}.hdf5\n",
      "filename batch_results/toymc_wimpsensiunbinned_wimpmass_{wimp_mass:d}_{inference_object_args[interaction]:s}_livetime_{livetime:.2f}_signal_{signal_expectation:.2f}.hdf5\n",
      "filename batch_results/toymc_wimpsensiunbinned_wimpmass_{wimp_mass:d}_{inference_object_args[interaction]:s}_livetime_{livetime:.2f}_signal_{signal_expectation:.2f}.hdf5\n",
      "filename batch_results/toymc_wimpsensiunbinned_wimpmass_{wimp_mass:d}_{inference_object_args[interaction]:s}_livetime_{livetime:.2f}_signal_{signal_expectation:.2f}.hdf5\n",
      "filename batch_results/toymc_wimpsensiunbinned_wimpmass_{wimp_mass:d}_{inference_object_args[interaction]:s}_livetime_{livetime:.2f}_signal_{signal_expectation:.2f}.hdf5\n",
      "filename batch_results/toymc_wimpsensiunbinned_wimpmass_{wimp_mass:d}_{inference_object_args[interaction]:s}_livetime_{livetime:.2f}_signal_{signal_expectation:.2f}.hdf5\n",
      "filename batch_results/toymc_wimpsensiunbinned_wimpmass_{wimp_mass:d}_{inference_object_args[interaction]:s}_livetime_{livetime:.2f}_signal_{signal_expectation:.2f}.hdf5\n",
      "filename batch_results/toymc_wimpsensiunbinned_wimpmass_{wimp_mass:d}_{inference_object_args[interaction]:s}_livetime_{livetime:.2f}_signal_{signal_expectation:.2f}.hdf5\n",
      "filename batch_results/toymc_wimpsensiunbinned_wimpmass_{wimp_mass:d}_{inference_object_args[interaction]:s}_livetime_{livetime:.2f}_signal_{signal_expectation:.2f}.hdf5\n",
      "filename batch_results/toymc_wimpsensiunbinned_wimpmass_{wimp_mass:d}_{inference_object_args[interaction]:s}_livetime_{livetime:.2f}_signal_{signal_expectation:.2f}.hdf5\n",
      "filename batch_results/toymc_wimpsensiunbinned_wimpmass_{wimp_mass:d}_{inference_object_args[interaction]:s}_livetime_{livetime:.2f}_signal_{signal_expectation:.2f}.hdf5\n",
      "filename batch_results/toymc_wimpsensiunbinned_wimpmass_{wimp_mass:d}_{inference_object_args[interaction]:s}_livetime_{livetime:.2f}_signal_{signal_expectation:.2f}.hdf5\n",
      "filename batch_results/toymc_wimpsensiunbinned_wimpmass_{wimp_mass:d}_{inference_object_args[interaction]:s}_livetime_{livetime:.2f}_signal_{signal_expectation:.2f}.hdf5\n",
      "filename batch_results/toymc_wimpsensiunbinned_wimpmass_{wimp_mass:d}_{inference_object_args[interaction]:s}_livetime_{livetime:.2f}_signal_{signal_expectation:.2f}.hdf5\n",
      "filename batch_results/toymc_wimpsensiunbinned_wimpmass_{wimp_mass:d}_{inference_object_args[interaction]:s}_livetime_{livetime:.2f}_signal_{signal_expectation:.2f}.hdf5\n",
      "filename batch_results/toymc_wimpsensiunbinned_wimpmass_{wimp_mass:d}_{inference_object_args[interaction]:s}_livetime_{livetime:.2f}_signal_{signal_expectation:.2f}.hdf5\n",
      "filename batch_results/toymc_wimpsensiunbinned_wimpmass_{wimp_mass:d}_{inference_object_args[interaction]:s}_livetime_{livetime:.2f}_signal_{signal_expectation:.2f}.hdf5\n",
      "filename batch_results/toymc_wimpsensiunbinned_wimpmass_{wimp_mass:d}_{inference_object_args[interaction]:s}_livetime_{livetime:.2f}_signal_{signal_expectation:.2f}.hdf5\n",
      "filename batch_results/toymc_wimpsensiunbinned_wimpmass_{wimp_mass:d}_{inference_object_args[interaction]:s}_livetime_{livetime:.2f}_signal_{signal_expectation:.2f}.hdf5\n",
      "filename batch_results/toymc_wimpsensiunbinned_wimpmass_{wimp_mass:d}_{inference_object_args[interaction]:s}_livetime_{livetime:.2f}_signal_{signal_expectation:.2f}.hdf5\n",
      "filename batch_results/toymc_wimpsensiunbinned_wimpmass_{wimp_mass:d}_{inference_object_args[interaction]:s}_livetime_{livetime:.2f}_signal_{signal_expectation:.2f}.hdf5\n",
      "filename batch_results/toymc_wimpsensiunbinned_wimpmass_{wimp_mass:d}_{inference_object_args[interaction]:s}_livetime_{livetime:.2f}_signal_{signal_expectation:.2f}.hdf5\n",
      "filename batch_results/toymc_wimpsensiunbinned_wimpmass_{wimp_mass:d}_{inference_object_args[interaction]:s}_livetime_{livetime:.2f}_signal_{signal_expectation:.2f}.hdf5\n",
      "filename batch_results/toymc_wimpsensiunbinned_wimpmass_{wimp_mass:d}_{inference_object_args[interaction]:s}_livetime_{livetime:.2f}_signal_{signal_expectation:.2f}.hdf5\n",
      "filename batch_results/toymc_wimpsensiunbinned_wimpmass_{wimp_mass:d}_{inference_object_args[interaction]:s}_livetime_{livetime:.2f}_signal_{signal_expectation:.2f}.hdf5\n",
      "filename batch_results/toymc_wimpsensiunbinned_wimpmass_{wimp_mass:d}_{inference_object_args[interaction]:s}_livetime_{livetime:.2f}_signal_{signal_expectation:.2f}.hdf5\n",
      "filename batch_results/toymc_wimpsensiunbinned_wimpmass_{wimp_mass:d}_{inference_object_args[interaction]:s}_livetime_{livetime:.2f}_signal_{signal_expectation:.2f}.hdf5\n",
      "filename batch_results/toymc_wimpsensiunbinned_wimpmass_{wimp_mass:d}_{inference_object_args[interaction]:s}_livetime_{livetime:.2f}_signal_{signal_expectation:.2f}.hdf5\n",
      "filename batch_results/toymc_wimpsensiunbinned_wimpmass_{wimp_mass:d}_{inference_object_args[interaction]:s}_livetime_{livetime:.2f}_signal_{signal_expectation:.2f}.hdf5\n",
      "filename batch_results/toymc_wimpsensiunbinned_wimpmass_{wimp_mass:d}_{inference_object_args[interaction]:s}_livetime_{livetime:.2f}_signal_{signal_expectation:.2f}.hdf5\n",
      "filename batch_results/toymc_wimpsensiunbinned_wimpmass_{wimp_mass:d}_{inference_object_args[interaction]:s}_livetime_{livetime:.2f}_signal_{signal_expectation:.2f}.hdf5\n",
      "filename batch_results/toymc_wimpsensiunbinned_wimpmass_{wimp_mass:d}_{inference_object_args[interaction]:s}_livetime_{livetime:.2f}_signal_{signal_expectation:.2f}.hdf5\n",
      "filename batch_results/toymc_wimpsensiunbinned_wimpmass_{wimp_mass:d}_{inference_object_args[interaction]:s}_livetime_{livetime:.2f}_signal_{signal_expectation:.2f}.hdf5\n",
      "filename batch_results/toymc_wimpsensiunbinned_wimpmass_{wimp_mass:d}_{inference_object_args[interaction]:s}_livetime_{livetime:.2f}_signal_{signal_expectation:.2f}.hdf5\n",
      "filename batch_results/toymc_wimpsensiunbinned_wimpmass_{wimp_mass:d}_{inference_object_args[interaction]:s}_livetime_{livetime:.2f}_signal_{signal_expectation:.2f}.hdf5\n",
      "filename batch_results/toymc_wimpsensiunbinned_wimpmass_{wimp_mass:d}_{inference_object_args[interaction]:s}_livetime_{livetime:.2f}_signal_{signal_expectation:.2f}.hdf5\n",
      "filename batch_results/toymc_wimpsensiunbinned_wimpmass_{wimp_mass:d}_{inference_object_args[interaction]:s}_livetime_{livetime:.2f}_signal_{signal_expectation:.2f}.hdf5\n",
      "filename batch_results/toymc_wimpsensiunbinned_wimpmass_{wimp_mass:d}_{inference_object_args[interaction]:s}_livetime_{livetime:.2f}_signal_{signal_expectation:.2f}.hdf5\n",
      "filename batch_results/toymc_wimpsensiunbinned_wimpmass_{wimp_mass:d}_{inference_object_args[interaction]:s}_livetime_{livetime:.2f}_signal_{signal_expectation:.2f}.hdf5\n",
      "filename batch_results/toymc_wimpsensiunbinned_wimpmass_{wimp_mass:d}_{inference_object_args[interaction]:s}_livetime_{livetime:.2f}_signal_{signal_expectation:.2f}.hdf5\n",
      "filename batch_results/toymc_wimpsensiunbinned_wimpmass_{wimp_mass:d}_{inference_object_args[interaction]:s}_livetime_{livetime:.2f}_signal_{signal_expectation:.2f}.hdf5\n",
      "255 batch_results/toymc_wimpsensiunbinned_wimpmass_4_WIMPPion_livetime_100.00_signal_0.00_0.hdf5 batch_results/toymc_wimpsensiunbinned_wimpmass_1000_WIMPPion_livetime_1000.00_signal_0.00_4.hdf5\n"
     ]
    }
   ],
   "source": [
    "fnames, calls = toymc_to_sbatch_call_array(parameters_to_vary=parameters_to_vary,\n",
    "                                           parameters_to_zip = parameters_to_zip,\n",
    "                                           parameters_in_common=parameters_in_common)\n",
    "print(len(fnames),fnames[0],fnames[-1])"
   ]
  },
  {
   "cell_type": "code",
   "execution_count": 41,
   "metadata": {},
   "outputs": [
    {
     "name": "stderr",
     "output_type": "stream",
     "text": [
      "100%|██████████| 255/255 [00:30<00:00,  8.46it/s]\n"
     ]
    }
   ],
   "source": [
    "if True:\n",
    "    submit_commandline_calls(calls, fnames, max_jobs=400, run_if_file_exists=False)"
   ]
  },
  {
   "cell_type": "code",
   "execution_count": 42,
   "metadata": {},
   "outputs": [],
   "source": [
    "wimp_masses = parameters_to_vary[\"wimp_mass\"]\n",
    "livetimes = parameters_to_vary[\"livetime\"]\n",
    "interactions= [d[\"interaction\"] for d in parameters_to_vary[\"inference_object_args\"]]\n",
    "interactions = [\"SI\",\"SD_p_central\",\"SD_n_central\",\"WIMPPion\"]\n",
    "livetimesi = {lt:i for i,lt in enumerate(livetimes)}\n",
    "wimp_massesi = {wm:i for i,wm in enumerate(wimp_masses)}\n",
    "output_pattern = \"batch_results/toymc_wimpsensiunbinned_wimpmass_{wimp_mass:d}_{interaction:s}_livetime_{livetime:.2f}_signal_{signal_expectation:.2f}*.hdf5\"\n",
    "\n",
    "sigmas = [-2,-1,0,1,2]\n",
    "sensiss = {i:{s:np.zeros((len(livetimes),len(wimp_masses))) for s in sigmas} for i in interactions}\n"
   ]
  },
  {
   "cell_type": "code",
   "execution_count": 43,
   "metadata": {},
   "outputs": [
    {
     "data": {
      "text/plain": [
       "['SI', 'SD_p_central', 'SD_n_central', 'WIMPPion']"
      ]
     },
     "execution_count": 43,
     "metadata": {},
     "output_type": "execute_result"
    }
   ],
   "source": [
    "interactions"
   ]
  },
  {
   "cell_type": "code",
   "execution_count": 44,
   "metadata": {},
   "outputs": [],
   "source": [
    "#toymc_wimpsensi_wimpmass_4_SI_livetime_1000.00_signal_0.00_24.hdf5"
   ]
  },
  {
   "cell_type": "code",
   "execution_count": null,
   "metadata": {},
   "outputs": [],
   "source": []
  },
  {
   "cell_type": "code",
   "execution_count": 45,
   "metadata": {},
   "outputs": [
    {
     "data": {
      "text/plain": [
       "[100, 200, 1000]"
      ]
     },
     "execution_count": 45,
     "metadata": {},
     "output_type": "execute_result"
    }
   ],
   "source": [
    "livetimes"
   ]
  },
  {
   "cell_type": "code",
   "execution_count": 46,
   "metadata": {
    "scrolled": true
   },
   "outputs": [
    {
     "name": "stderr",
     "output_type": "stream",
     "text": [
      "100%|██████████| 17/17 [00:05<00:00,  3.20it/s]\n",
      "100%|██████████| 17/17 [00:06<00:00,  2.83it/s]\n",
      "100%|██████████| 17/17 [00:05<00:00,  3.06it/s]\n",
      "100%|██████████| 17/17 [00:01<00:00,  9.48it/s]\n"
     ]
    }
   ],
   "source": [
    "for interaction in interactions:\n",
    "    for i,wimp_mass in enumerate(tqdm(sorted(wimp_masses))):\n",
    "        for j, livetime in enumerate(sorted(livetimes)):\n",
    "            try:\n",
    "                res = toyfiles_to_numpy(output_pattern.format(wimp_mass=wimp_mass,interaction=interaction,livetime=livetime,signal_expectation = 0.))\n",
    "                uls = res[\"0\"][\"ul\"]\n",
    "                for s in sigmas:\n",
    "                    sensiss[interaction][s][j][i] = np.percentile(uls,100.*sps.norm().cdf(s))\n",
    "            except:\n",
    "                pass"
   ]
  },
  {
   "cell_type": "code",
   "execution_count": 19,
   "metadata": {},
   "outputs": [
    {
     "data": {
      "text/plain": [
       "{'SD_n_central': {-2: array([[7.40564711e+05, 5.81970319e+04, 9.69987043e+03, 2.50464334e+03,\n",
       "          8.60576632e+02, 1.92209286e+02, 4.32288489e+01, 2.58832329e+01,\n",
       "          1.90900898e+01, 1.85550467e+01, 1.88643475e+01, 2.63825808e+01,\n",
       "          2.96615488e+01, 5.63286690e+01, 8.34360957e+01, 0.00000000e+00,\n",
       "          2.72218489e+02],\n",
       "         [5.45272588e+05, 4.32264923e+04, 6.82121421e+03, 1.87014427e+03,\n",
       "          6.33146888e+02, 1.31985451e+02, 2.87410179e+01, 1.75323851e+01,\n",
       "          1.26232668e+01, 1.31918648e+01, 1.32843389e+01, 1.57763898e+01,\n",
       "          2.07931120e+01, 4.06663913e+01, 6.13510605e+01, 0.00000000e+00,\n",
       "          1.85228807e+02],\n",
       "         [2.94100133e+05, 2.54569777e+04, 4.49306530e+03, 1.03359652e+03,\n",
       "          2.95425219e+02, 6.53893870e+01, 1.08889470e+01, 6.85896932e+00,\n",
       "          5.07353064e+00, 5.45872428e+00, 5.68473574e+00, 6.85331832e+00,\n",
       "          8.67105563e+00, 1.58897560e+01, 2.23796217e+01, 0.00000000e+00,\n",
       "          7.73228012e+01]]),\n",
       "  -1: array([[1.21231098e+06, 9.47440475e+04, 1.59561711e+04, 4.18789873e+03,\n",
       "          1.45010425e+03, 3.28263383e+02, 6.81142798e+01, 3.85779237e+01,\n",
       "          3.05440545e+01, 2.87845914e+01, 3.10738735e+01, 4.06022138e+01,\n",
       "          4.78956540e+01, 8.85933597e+01, 1.28166557e+02, 0.00000000e+00,\n",
       "          4.28648125e+02],\n",
       "         [9.11172104e+05, 7.37859023e+04, 1.22851529e+04, 3.18742431e+03,\n",
       "          1.03682819e+03, 2.22212793e+02, 4.50713380e+01, 2.79172248e+01,\n",
       "          1.98593402e+01, 2.07396613e+01, 2.12435910e+01, 2.58392746e+01,\n",
       "          3.32347716e+01, 6.26781719e+01, 8.98092540e+01, 0.00000000e+00,\n",
       "          2.90557743e+02],\n",
       "         [4.64855953e+05, 4.20564103e+04, 7.61097284e+03, 1.68162586e+03,\n",
       "          5.00394403e+02, 1.08321049e+02, 1.95031702e+01, 1.14911656e+01,\n",
       "          9.04697345e+00, 8.35984152e+00, 9.19747832e+00, 1.10200242e+01,\n",
       "          1.39760829e+01, 2.64880818e+01, 3.64588543e+01, 0.00000000e+00,\n",
       "          1.34312515e+02]]),\n",
       "  0: array([[2.62946927e+06, 2.04778579e+05, 3.65879844e+04, 9.29226674e+03,\n",
       "          3.18693787e+03, 7.72894795e+02, 1.45316024e+02, 8.47722460e+01,\n",
       "          6.35684676e+01, 6.31460914e+01, 6.54736177e+01, 8.43163555e+01,\n",
       "          1.05589377e+02, 1.83066834e+02, 2.66199171e+02, 0.00000000e+00,\n",
       "          8.83532345e+02],\n",
       "         [1.86692433e+06, 1.51916322e+05, 2.65713608e+04, 6.95469016e+03,\n",
       "          2.15513052e+03, 4.91565309e+02, 9.97744094e+01, 5.88341855e+01,\n",
       "          4.44694503e+01, 4.49683881e+01, 4.54014231e+01, 5.48936499e+01,\n",
       "          7.07901023e+01, 1.31457208e+02, 1.91533296e+02, 0.00000000e+00,\n",
       "          6.47020158e+02],\n",
       "         [1.00290530e+06, 9.84831639e+04, 1.68031980e+04, 3.69735712e+03,\n",
       "          1.07098322e+03, 2.21809997e+02, 4.28167498e+01, 2.55794714e+01,\n",
       "          2.05951045e+01, 1.85964167e+01, 2.07834368e+01, 2.32514967e+01,\n",
       "          3.05121443e+01, 5.50073449e+01, 8.12356866e+01, 0.00000000e+00,\n",
       "          2.89024472e+02]]),\n",
       "  1: array([[4.97847325e+06, 3.77199416e+05, 6.55620319e+04, 1.74565981e+04,\n",
       "          6.03096426e+03, 1.42578532e+03, 3.08348474e+02, 1.68147464e+02,\n",
       "          1.27623360e+02, 1.27649778e+02, 1.42229075e+02, 1.70216731e+02,\n",
       "          2.11884742e+02, 4.11380730e+02, 5.74701659e+02, 0.00000000e+00,\n",
       "          1.85147812e+03],\n",
       "         [3.66045863e+06, 2.89548943e+05, 5.14312855e+04, 1.30645411e+04,\n",
       "          4.34883112e+03, 9.75116343e+02, 1.97711773e+02, 1.17786282e+02,\n",
       "          9.10592902e+01, 9.07639875e+01, 9.30051097e+01, 1.13799510e+02,\n",
       "          1.39925722e+02, 2.72733726e+02, 3.75109123e+02, 0.00000000e+00,\n",
       "          1.27673298e+03],\n",
       "         [1.86170207e+06, 1.79868588e+05, 3.28626313e+04, 6.89120029e+03,\n",
       "          1.96649640e+03, 4.23012149e+02, 8.31135004e+01, 4.84332092e+01,\n",
       "          3.73895201e+01, 3.66809526e+01, 4.06881332e+01, 4.68820217e+01,\n",
       "          6.01338033e+01, 1.04514782e+02, 1.58450258e+02, 0.00000000e+00,\n",
       "          5.15690058e+02]]),\n",
       "  2: array([[7.43915342e+06, 5.32021817e+05, 9.87738437e+04, 2.48634280e+04,\n",
       "          9.02457921e+03, 2.10878455e+03, 4.66429031e+02, 2.58023604e+02,\n",
       "          2.07970901e+02, 2.03336551e+02, 2.24799517e+02, 2.64299518e+02,\n",
       "          3.32673258e+02, 6.07936230e+02, 9.01719031e+02, 0.00000000e+00,\n",
       "          2.90709657e+03],\n",
       "         [5.30349559e+06, 4.03934309e+05, 7.48114841e+04, 2.00630958e+04,\n",
       "          6.55736767e+03, 1.44788048e+03, 3.14086594e+02, 1.76087554e+02,\n",
       "          1.35909789e+02, 1.36037134e+02, 1.43473797e+02, 1.66392165e+02,\n",
       "          2.21039051e+02, 4.08916811e+02, 5.70293369e+02, 0.00000000e+00,\n",
       "          2.07829381e+03],\n",
       "         [2.70630322e+06, 2.67512821e+05, 4.71427219e+04, 9.79649663e+03,\n",
       "          3.03579026e+03, 6.06847722e+02, 1.16296906e+02, 7.07649090e+01,\n",
       "          5.43565139e+01, 5.47122576e+01, 5.75313421e+01, 6.95274851e+01,\n",
       "          9.28924320e+01, 1.61599988e+02, 2.41059561e+02, 0.00000000e+00,\n",
       "          7.55993150e+02]])},\n",
       " 'SD_p_central': {-2: array([[2.29569483e+07, 1.79733090e+06, 3.21841465e+05, 7.60930246e+04,\n",
       "          2.94854819e+04, 6.61224677e+03, 1.36936509e+03, 7.80408008e+02,\n",
       "          5.84940521e+02, 5.81278180e+02, 6.07376480e+02, 7.10794577e+02,\n",
       "          9.25298777e+02, 1.61684357e+03, 2.50767021e+03, 0.00000000e+00,\n",
       "          7.57971794e+03],\n",
       "         [1.77262501e+07, 1.36529116e+06, 2.46187347e+05, 6.20038381e+04,\n",
       "          2.09297999e+04, 4.41639158e+03, 9.02777023e+02, 5.21498233e+02,\n",
       "          3.81874515e+02, 3.68305446e+02, 3.75746628e+02, 4.69252508e+02,\n",
       "          6.14530615e+02, 1.04713389e+03, 1.54073786e+03, 0.00000000e+00,\n",
       "          5.15904266e+03],\n",
       "         [8.66408090e+06, 7.76994537e+05, 1.61431916e+05, 3.51894781e+04,\n",
       "          1.06002435e+04, 1.89241794e+03, 3.48871157e+02, 2.13963087e+02,\n",
       "          1.61204501e+02, 1.55006253e+02, 1.58075241e+02, 1.95743561e+02,\n",
       "          2.32927424e+02, 4.26040418e+02, 6.13563987e+02, 0.00000000e+00,\n",
       "          1.94952562e+03]]),\n",
       "  -1: array([[4.01079838e+07, 3.06216449e+06, 5.58124559e+05, 1.36507662e+05,\n",
       "          4.75718663e+04, 1.02927857e+04, 2.22683443e+03, 1.24643380e+03,\n",
       "          9.17707942e+02, 9.14657699e+02, 9.22055185e+02, 1.12095574e+03,\n",
       "          1.41756769e+03, 2.44163165e+03, 3.66534521e+03, 0.00000000e+00,\n",
       "          1.19940507e+04],\n",
       "         [3.10638835e+07, 2.29515404e+06, 4.02263299e+05, 1.03698536e+05,\n",
       "          3.38630086e+04, 7.53176949e+03, 1.41803091e+03, 7.72153648e+02,\n",
       "          6.28136722e+02, 5.91148316e+02, 6.29080952e+02, 7.59348895e+02,\n",
       "          9.78265309e+02, 1.63437063e+03, 2.47031495e+03, 0.00000000e+00,\n",
       "          8.05906940e+03],\n",
       "         [1.52063303e+07, 1.44995970e+06, 2.70458839e+05, 5.84201254e+04,\n",
       "          1.64236384e+04, 3.32208754e+03, 5.91369662e+02, 3.51001183e+02,\n",
       "          2.67167476e+02, 2.61642499e+02, 2.70997362e+02, 3.09372335e+02,\n",
       "          3.70579612e+02, 7.73953325e+02, 1.03021354e+03, 0.00000000e+00,\n",
       "          3.41221781e+03]]),\n",
       "  0: array([[8.98594686e+07, 6.57182424e+06, 1.25692318e+06, 3.16083034e+05,\n",
       "          1.02033339e+05, 2.19125599e+04, 4.35065639e+03, 2.58721730e+03,\n",
       "          1.96121272e+03, 1.83766299e+03, 1.91780152e+03, 2.32561774e+03,\n",
       "          2.80214634e+03, 5.74269954e+03, 7.58433731e+03, 0.00000000e+00,\n",
       "          2.49921507e+04],\n",
       "         [6.45913049e+07, 5.06063423e+06, 9.31325352e+05, 2.32372032e+05,\n",
       "          7.24855918e+04, 1.57851943e+04, 3.03064349e+03, 1.77492423e+03,\n",
       "          1.33341716e+03, 1.27201624e+03, 1.39291449e+03, 1.64597896e+03,\n",
       "          2.03250377e+03, 3.68410261e+03, 5.30562528e+03, 0.00000000e+00,\n",
       "          1.72966783e+04],\n",
       "         [3.80366558e+07, 3.16433797e+06, 6.30449393e+05, 1.27522145e+05,\n",
       "          3.45120792e+04, 7.35321750e+03, 1.29486397e+03, 7.24778609e+02,\n",
       "          5.70704345e+02, 5.43856854e+02, 6.20419952e+02, 7.03757365e+02,\n",
       "          8.00088405e+02, 1.65819566e+03, 2.15591883e+03, 0.00000000e+00,\n",
       "          7.33638221e+03]]),\n",
       "  1: array([[1.69522301e+08, 1.24740146e+07, 2.26911102e+06, 5.63445066e+05,\n",
       "          1.85830289e+05, 4.23596197e+04, 8.92140737e+03, 5.49942242e+03,\n",
       "          3.95083670e+03, 3.75280010e+03, 3.76021251e+03, 4.66530423e+03,\n",
       "          6.02155504e+03, 1.10348850e+04, 1.57831479e+04, 0.00000000e+00,\n",
       "          5.17733945e+04],\n",
       "         [1.23388791e+08, 9.37376712e+06, 1.69915229e+06, 4.40416481e+05,\n",
       "          1.37025467e+05, 2.99968527e+04, 6.17402891e+03, 3.54429692e+03,\n",
       "          2.65358735e+03, 2.54717802e+03, 2.68297795e+03, 3.17745887e+03,\n",
       "          3.96713053e+03, 7.36405147e+03, 1.04065913e+04, 0.00000000e+00,\n",
       "          3.50758796e+04],\n",
       "         [6.68920714e+07, 5.76124787e+06, 1.10315848e+06, 2.44455966e+05,\n",
       "          6.45382269e+04, 1.40139292e+04, 2.46624683e+03, 1.48135902e+03,\n",
       "          1.09514277e+03, 1.10141131e+03, 1.13281416e+03, 1.29281366e+03,\n",
       "          1.61512355e+03, 3.08744059e+03, 4.25574799e+03, 0.00000000e+00,\n",
       "          1.41790983e+04]]),\n",
       "  2: array([[2.42234966e+08, 1.87800268e+07, 3.24280052e+06, 8.14348185e+05,\n",
       "          2.83577911e+05, 6.64877092e+04, 1.40361032e+04, 8.28015048e+03,\n",
       "          6.35982564e+03, 6.11976896e+03, 6.02102188e+03, 7.38087930e+03,\n",
       "          9.73190419e+03, 1.70671198e+04, 2.41380807e+04, 0.00000000e+00,\n",
       "          8.01074330e+04],\n",
       "         [1.87103143e+08, 1.37596756e+07, 2.51910360e+06, 6.30728235e+05,\n",
       "          2.05265348e+05, 4.52261358e+04, 9.83630979e+03, 5.81720742e+03,\n",
       "          3.99354176e+03, 4.06225426e+03, 4.32390494e+03, 4.99507751e+03,\n",
       "          6.37520009e+03, 1.09743086e+04, 1.66681805e+04, 0.00000000e+00,\n",
       "          5.39843944e+04],\n",
       "         [1.14651673e+08, 8.32867471e+06, 1.61602624e+06, 3.44883499e+05,\n",
       "          9.29017163e+04, 1.99649075e+04, 3.78988473e+03, 2.16080619e+03,\n",
       "          1.68315707e+03, 1.70103240e+03, 1.74344446e+03, 1.90108111e+03,\n",
       "          2.50585501e+03, 4.55450110e+03, 6.56796547e+03, 0.00000000e+00,\n",
       "          2.18748195e+04]])},\n",
       " 'SI': {-2: array([[4.69537683e+00, 3.61483826e-01, 6.48830446e-02, 1.55357303e-02,\n",
       "          5.27387781e-03, 1.30146248e-03, 2.62104839e-04, 1.57082398e-04,\n",
       "          1.25737993e-04, 1.13611384e-04, 1.10636468e-04, 1.44558742e-04,\n",
       "          1.77467152e-04, 3.54871250e-04, 5.17193100e-04, 0.00000000e+00,\n",
       "          1.65495698e-03],\n",
       "         [3.56792574e+00, 2.57021552e-01, 4.45040495e-02, 1.17605934e-02,\n",
       "          4.24581196e-03, 8.68405284e-04, 1.77202690e-04, 1.01728917e-04,\n",
       "          8.02592221e-05, 7.72626160e-05, 7.95755018e-05, 9.63187719e-05,\n",
       "          1.21525469e-04, 2.36978879e-04, 3.29972027e-04, 0.00000000e+00,\n",
       "          1.17735167e-03],\n",
       "         [1.73204253e+00, 1.58752830e-01, 4.53560992e-02, 6.53718897e-03,\n",
       "          1.88724015e-03, 3.81601262e-04, 3.20050527e-05, 4.01281113e-05,\n",
       "          3.21582716e-05, 2.89228080e-05, 3.02939968e-05, 2.78998857e-05,\n",
       "          5.07589781e-05, 9.16634646e-05, 1.14976235e-04, 0.00000000e+00,\n",
       "          4.15139216e-04]]),\n",
       "  -1: array([[8.08578720e+00, 5.83093854e-01, 1.08488678e-01, 2.59449271e-02,\n",
       "          9.14091892e-03, 2.06549710e-03, 4.18387518e-04, 2.52421374e-04,\n",
       "          1.90652275e-04, 1.78450553e-04, 1.82376051e-04, 2.35737028e-04,\n",
       "          2.82664574e-04, 5.62505979e-04, 7.90845726e-04, 0.00000000e+00,\n",
       "          2.60364379e-03],\n",
       "         [6.32627429e+00, 4.36071791e-01, 7.91246485e-02, 2.10707614e-02,\n",
       "          6.72165386e-03, 1.54275488e-03, 2.71159691e-04, 1.66350966e-04,\n",
       "          1.28775275e-04, 1.32753365e-04, 1.28488621e-04, 1.64974882e-04,\n",
       "          1.97189291e-04, 3.77718634e-04, 4.95591629e-04, 0.00000000e+00,\n",
       "          1.91737382e-03],\n",
       "         [2.96143022e+00, 2.71222035e-01, 6.55388314e-02, 1.08089761e-02,\n",
       "          3.08228506e-03, 6.29108266e-04, 9.92665543e-05, 6.62065038e-05,\n",
       "          4.80656138e-05, 4.72081444e-05, 5.05448390e-05, 6.05726201e-05,\n",
       "          8.13719308e-05, 1.50902510e-04, 2.04125585e-04, 0.00000000e+00,\n",
       "          6.93045922e-04]]),\n",
       "  0: array([[1.79382567e+01, 1.28093003e+00, 2.29261862e-01, 5.61059702e-02,\n",
       "          1.88779300e-02, 4.55630189e-03, 9.19045306e-04, 5.12763681e-04,\n",
       "          4.02952011e-04, 3.78112101e-04, 4.25717534e-04, 4.95049172e-04,\n",
       "          6.06736859e-04, 1.20458855e-03, 1.61864300e-03, 0.00000000e+00,\n",
       "          5.36687016e-03],\n",
       "         [1.30086230e+01, 9.67468450e-01, 1.67800839e-01, 4.33197637e-02,\n",
       "          1.38285869e-02, 3.30860846e-03, 5.86209816e-04, 3.57937721e-04,\n",
       "          2.79045923e-04, 2.86631438e-04, 2.88952186e-04, 3.47692452e-04,\n",
       "          4.28673907e-04, 8.59890695e-04, 1.06986509e-03, 0.00000000e+00,\n",
       "          3.80516742e-03],\n",
       "         [6.34382096e+00, 7.22677306e-01, 1.08197592e-01, 2.29190075e-02,\n",
       "          6.74892253e-03, 1.38844604e-03, 2.77909306e-04, 1.67938526e-04,\n",
       "          1.02583331e-04, 1.07238667e-04, 1.26444323e-04, 1.60429315e-04,\n",
       "          1.94753463e-04, 3.17911478e-04, 4.87722124e-04, 0.00000000e+00,\n",
       "          1.68698515e-03]]),\n",
       "  1: array([[3.34988598e+01, 2.36982034e+00, 4.18646315e-01, 1.07515314e-01,\n",
       "          3.78762148e-02, 8.90210985e-03, 1.80791790e-03, 1.03227486e-03,\n",
       "          7.67841414e-04, 7.63206629e-04, 7.89392976e-04, 1.01129169e-03,\n",
       "          1.22838519e-03, 2.29564968e-03, 3.30442731e-03, 0.00000000e+00,\n",
       "          1.11335739e-02],\n",
       "         [2.35316076e+01, 1.78812114e+00, 3.19333873e-01, 8.20232889e-02,\n",
       "          2.64221353e-02, 6.23752176e-03, 1.20097486e-03, 6.88003126e-04,\n",
       "          5.16517483e-04, 5.49713792e-04, 5.61936259e-04, 6.66751145e-04,\n",
       "          8.42088267e-04, 1.58995922e-03, 2.27057443e-03, 0.00000000e+00,\n",
       "          7.75701244e-03],\n",
       "         [1.25120699e+01, 1.21811984e+00, 2.13441740e-01, 4.64805651e-02,\n",
       "          1.33230115e-02, 2.71010741e-03, 4.87831748e-04, 3.07838145e-04,\n",
       "          2.21434183e-04, 2.04503194e-04, 2.27962727e-04, 2.93685210e-04,\n",
       "          3.67449127e-04, 6.02896048e-04, 9.26867660e-04, 0.00000000e+00,\n",
       "          3.04266898e-03]]),\n",
       "  2: array([[5.13456771e+01, 3.35981315e+00, 5.99141249e-01, 1.62467793e-01,\n",
       "          5.82221434e-02, 1.38107137e-02, 2.81564512e-03, 1.56387894e-03,\n",
       "          1.20264324e-03, 1.20212307e-03, 1.21412457e-03, 1.54569161e-03,\n",
       "          1.91919627e-03, 3.73019710e-03, 5.02053000e-03, 0.00000000e+00,\n",
       "          1.70925848e-02],\n",
       "         [3.43317983e+01, 2.75106478e+00, 4.54044046e-01, 1.21657979e-01,\n",
       "          3.97897640e-02, 9.33855471e-03, 1.91032708e-03, 1.07850052e-03,\n",
       "          8.03114442e-04, 8.13736166e-04, 8.13662835e-04, 1.04127481e-03,\n",
       "          1.26520464e-03, 2.41919736e-03, 3.41621129e-03, 0.00000000e+00,\n",
       "          1.24638692e-02],\n",
       "         [1.79218207e+01, 1.68809408e+00, 3.06997356e-01, 6.79022117e-02,\n",
       "          1.95376784e-02, 3.87239439e-03, 7.43801409e-04, 5.00682296e-04,\n",
       "          3.47682657e-04, 3.23870663e-04, 3.55012115e-04, 4.17270509e-04,\n",
       "          5.38850911e-04, 9.55321372e-04, 1.40367452e-03, 0.00000000e+00,\n",
       "          4.89423002e-03]])},\n",
       " 'WIMPPion': {-2: array([[0.00000000e+00, 2.61632604e+06, 4.25583302e+05, 1.11575030e+05,\n",
       "          3.67724264e+04, 8.60959307e+03, 1.62594878e+03, 9.37901216e+02,\n",
       "          6.43625179e+02, 6.24596265e+02, 6.90278109e+02, 7.86102950e+02,\n",
       "          9.97572565e+02, 1.79243577e+03, 0.00000000e+00, 3.42778916e+03,\n",
       "          8.66006589e+03],\n",
       "         [0.00000000e+00, 1.99155586e+06, 3.19934317e+05, 8.13189635e+04,\n",
       "          2.55981017e+04, 5.62500264e+03, 1.10308784e+03, 5.98468333e+02,\n",
       "          4.40175653e+02, 4.38398225e+02, 4.54147960e+02, 5.26780766e+02,\n",
       "          6.53496667e+02, 1.23986720e+03, 0.00000000e+00, 2.31834807e+03,\n",
       "          5.72125408e+03],\n",
       "         [0.00000000e+00, 1.25083431e+06, 2.37071466e+05, 5.04730165e+04,\n",
       "          1.28477880e+04, 2.31675957e+03, 4.40334940e+02, 2.53652076e+02,\n",
       "          1.84693043e+02, 1.69246961e+02, 1.77737767e+02, 2.07693297e+02,\n",
       "          2.77692200e+02, 5.00263892e+02, 0.00000000e+00, 9.48996109e+02,\n",
       "          2.18738970e+03]]),\n",
       "  -1: array([[0.00000000e+00, 4.58316051e+06, 7.08003210e+05, 1.77873395e+05,\n",
       "          6.33460980e+04, 1.35558606e+04, 2.53381562e+03, 1.41162481e+03,\n",
       "          1.02881999e+03, 9.78115950e+02, 1.08355411e+03, 1.21149564e+03,\n",
       "          1.49820374e+03, 2.84381397e+03, 0.00000000e+00, 5.42900389e+03,\n",
       "          1.33771437e+04],\n",
       "         [0.00000000e+00, 3.50800267e+06, 5.44360314e+05, 1.47160036e+05,\n",
       "          4.32952379e+04, 9.07641822e+03, 1.74147264e+03, 9.11838737e+02,\n",
       "          7.27826349e+02, 6.82939078e+02, 7.17208040e+02, 8.18106280e+02,\n",
       "          1.01163887e+03, 1.90680818e+03, 0.00000000e+00, 3.65565446e+03,\n",
       "          8.62492029e+03],\n",
       "         [0.00000000e+00, 2.17372710e+06, 3.76468007e+05, 8.10131372e+04,\n",
       "          2.20389776e+04, 3.71907883e+03, 7.01663244e+02, 3.99571910e+02,\n",
       "          3.07946387e+02, 2.85442292e+02, 3.13816792e+02, 3.56801525e+02,\n",
       "          4.32256250e+02, 7.77688797e+02, 0.00000000e+00, 1.46803481e+03,\n",
       "          3.88649467e+03]]),\n",
       "  0: array([[0.00000000e+00, 9.13311011e+06, 1.61764937e+06, 4.11495687e+05,\n",
       "          1.45907361e+05, 3.01651648e+04, 5.55984348e+03, 3.02848849e+03,\n",
       "          2.28489682e+03, 2.05044144e+03, 2.14175800e+03, 2.47665732e+03,\n",
       "          3.08486747e+03, 5.72296169e+03, 0.00000000e+00, 1.17042232e+04,\n",
       "          2.87769704e+04],\n",
       "         [0.00000000e+00, 7.51536500e+06, 1.16389936e+06, 3.05541217e+05,\n",
       "          9.72613646e+04, 1.97199491e+04, 3.71313637e+03, 2.09391732e+03,\n",
       "          1.58049619e+03, 1.45927486e+03, 1.51338362e+03, 1.81429229e+03,\n",
       "          2.26214167e+03, 3.98179685e+03, 0.00000000e+00, 7.91109949e+03,\n",
       "          1.84215928e+04],\n",
       "         [0.00000000e+00, 4.49719583e+06, 8.55673452e+05, 1.61921150e+05,\n",
       "          4.65860049e+04, 7.90875182e+03, 1.61495596e+03, 8.69719262e+02,\n",
       "          6.90754759e+02, 6.04153073e+02, 6.48970305e+02, 7.48760666e+02,\n",
       "          9.15360084e+02, 1.70339154e+03, 0.00000000e+00, 3.05652125e+03,\n",
       "          8.60612036e+03]]),\n",
       "  1: array([[0.00000000e+00, 1.85084549e+07, 3.13307461e+06, 7.65893749e+05,\n",
       "          2.59381649e+05, 5.75062408e+04, 1.08407091e+04, 6.33802466e+03,\n",
       "          4.51234639e+03, 4.38990013e+03, 4.37614004e+03, 5.11897053e+03,\n",
       "          6.79749933e+03, 1.18852377e+04, 0.00000000e+00, 2.23598602e+04,\n",
       "          5.84420280e+04],\n",
       "         [0.00000000e+00, 1.39095784e+07, 2.27287609e+06, 6.03194712e+05,\n",
       "          1.77413207e+05, 3.88142381e+04, 7.26458434e+03, 4.22001412e+03,\n",
       "          3.08102824e+03, 2.93030465e+03, 3.10516022e+03, 3.39469254e+03,\n",
       "          4.44389345e+03, 8.38226261e+03, 0.00000000e+00, 1.54403671e+04,\n",
       "          3.80563632e+04],\n",
       "         [0.00000000e+00, 8.03079691e+06, 1.63991479e+06, 3.08290143e+05,\n",
       "          8.73661124e+04, 1.70379306e+04, 3.10090627e+03, 1.77725260e+03,\n",
       "          1.28557945e+03, 1.20560102e+03, 1.19370724e+03, 1.44917446e+03,\n",
       "          1.83710539e+03, 3.37958551e+03, 0.00000000e+00, 6.19897966e+03,\n",
       "          1.66265459e+04]]),\n",
       "  2: array([[0.00000000e+00, 2.61898669e+07, 4.51076341e+06, 1.13884378e+06,\n",
       "          3.79131578e+05, 8.37484774e+04, 1.71389407e+04, 9.57811446e+03,\n",
       "          7.38337045e+03, 6.65194234e+03, 6.72308557e+03, 8.24944629e+03,\n",
       "          1.07870125e+04, 1.82888698e+04, 0.00000000e+00, 3.39322787e+04,\n",
       "          8.71869399e+04],\n",
       "         [0.00000000e+00, 1.92831226e+07, 3.24939543e+06, 8.93838796e+05,\n",
       "          2.57564905e+05, 5.57920255e+04, 1.11888284e+04, 6.60841341e+03,\n",
       "          4.68736730e+03, 4.41247457e+03, 4.86099322e+03, 5.37331717e+03,\n",
       "          6.93770521e+03, 1.27308993e+04, 0.00000000e+00, 2.41013986e+04,\n",
       "          5.66582117e+04],\n",
       "         [0.00000000e+00, 1.13777618e+07, 2.42497750e+06, 4.49718306e+05,\n",
       "          1.28621777e+05, 2.33735856e+04, 4.54924084e+03, 2.69062978e+03,\n",
       "          1.86367580e+03, 1.84874556e+03, 1.86345962e+03, 2.26186667e+03,\n",
       "          2.85135444e+03, 4.96963024e+03, 0.00000000e+00, 9.15021905e+03,\n",
       "          2.38785344e+04]])}}"
      ]
     },
     "execution_count": 19,
     "metadata": {},
     "output_type": "execute_result"
    }
   ],
   "source": [
    "sensiss"
   ]
  },
  {
   "cell_type": "code",
   "execution_count": 20,
   "metadata": {},
   "outputs": [],
   "source": [
    "i_wimp_mass = np.argmax(np.array(wimp_masses)==50)"
   ]
  },
  {
   "cell_type": "code",
   "execution_count": 21,
   "metadata": {},
   "outputs": [
    {
     "data": {
      "text/plain": [
       "[100, 200, 1000]"
      ]
     },
     "execution_count": 21,
     "metadata": {},
     "output_type": "execute_result"
    }
   ],
   "source": [
    "livetimes"
   ]
  },
  {
   "cell_type": "code",
   "execution_count": 22,
   "metadata": {},
   "outputs": [
    {
     "data": {
      "text/plain": [
       "array([10.96908543, 14.89034847, 32.57978512])"
      ]
     },
     "execution_count": 22,
     "metadata": {},
     "output_type": "execute_result"
    }
   ],
   "source": [
    "sensiss[\"SI\"][0][:,i_wimp_mass] * 257.6611145532219 * np.array(livetimes)"
   ]
  },
  {
   "cell_type": "code",
   "execution_count": 23,
   "metadata": {},
   "outputs": [
    {
     "data": {
      "text/plain": [
       "array([0.00042572, 0.00028895, 0.00012644])"
      ]
     },
     "execution_count": 23,
     "metadata": {},
     "output_type": "execute_result"
    }
   ],
   "source": [
    "sensiss[\"SI\"][0][:,i_wimp_mass]"
   ]
  },
  {
   "cell_type": "code",
   "execution_count": 24,
   "metadata": {},
   "outputs": [],
   "source": [
    "uls_1t = dict()"
   ]
  },
  {
   "cell_type": "code",
   "execution_count": 25,
   "metadata": {},
   "outputs": [],
   "source": [
    "lz_webplot = np.array([3.0220, 9.7995e-43,\n",
    "3.1506, 5.7871e-43,\n",
    "3.2805, 3.3710e-43,\n",
    "3.3909, 2.4217e-43,\n",
    "3.5128, 1.6198e-43,\n",
    "3.6472, 9.9846e-44,\n",
    "3.8370, 6.1883e-44,\n",
    "3.9749, 4.2335e-44,\n",
    "4.1177, 2.9623e-44,\n",
    "4.2656, 2.0884e-44,\n",
    "4.4188, 1.4835e-44,\n",
    "4.5775, 1.0737e-44,\n",
    "4.7419, 7.7425e-45,\n",
    "4.9122, 5.6676e-45,\n",
    "5.1111, 3.9957e-45,\n",
    "5.3415, 2.7438e-45,\n",
    "5.5822, 1.8842e-45,\n",
    "5.8339, 1.2938e-45,\n",
    "6.0969, 8.8582e-46,\n",
    "6.3717, 6.1196e-46,\n",
    "6.6589, 4.2531e-46,\n",
    "6.9590, 2.9471e-46,\n",
    "7.2727, 2.0606e-46,\n",
    "7.6004, 1.4626e-46,\n",
    "7.9429, 1.0475e-46,\n",
    "8.3374, 7.3981e-47,\n",
    "8.7901, 5.1831e-47,\n",
    "9.2672, 3.7141e-47,\n",
    "9.8133, 2.6349e-47,\n",
    "10.437, 1.8686e-47,\n",
    "11.150, 1.3370e-47,\n",
    "12.016, 9.4634e-48,\n",
    "13.064, 6.7384e-48,\n",
    "14.329, 4.9322e-48,\n",
    "15.784, 3.7938e-48,\n",
    "17.388, 3.0154e-48,\n",
    "19.154, 2.4767e-48,\n",
    "21.099, 2.1136e-48,\n",
    "23.241, 1.8537e-48,\n",
    "25.601, 1.6731e-48,\n",
    "28.199, 1.5583e-48,\n",
    "31.061, 1.4977e-48,\n",
    "34.213, 1.4694e-48,\n",
    "37.685, 1.4574e-48,\n",
    "41.509, 1.4474e-48,\n",
    "45.722, 1.4474e-48,\n",
    "50.361, 1.4694e-48,\n",
    "55.470, 1.5184e-48,\n",
    "61.098, 1.5797e-48,\n",
    "67.296, 1.6617e-48,\n",
    "74.123, 1.7671e-48,\n",
    "81.642, 1.8921e-48,\n",
    "89.924, 2.0287e-48,\n",
    "99.046, 2.1841e-48,\n",
    "109.09, 2.3578e-48,\n",
    "120.16, 2.5453e-48,\n",
    "132.35, 2.7403e-48,\n",
    "145.77, 2.9583e-48,\n",
    "160.56, 3.1936e-48,\n",
    "176.85, 3.4571e-48,\n",
    "194.78, 3.7474e-48,\n",
    "214.54, 4.0566e-48,\n",
    "236.30, 4.4032e-48,\n",
    "260.27, 4.7730e-48,\n",
    "286.67, 5.1739e-48,\n",
    "315.75, 5.6237e-48,\n",
    "347.78, 6.1294e-48,\n",
    "383.06, 6.6624e-48,\n",
    "421.91, 7.2317e-48,\n",
    "464.71, 7.8713e-48,\n",
    "511.84, 8.5673e-48,\n",
    "563.76, 9.3505e-48,\n",
    "620.94, 1.0261e-47,\n",
    "683.92, 1.1261e-47,\n",
    "753.30, 1.2340e-47,\n",
    "829.70, 1.3524e-47,\n",
    "913.86, 1.4922e-47,\n",
    "1006.5, 1.6488e-47,\n",
    "1108.6, 1.8243e-47,\n",
    "1221.1, 2.0157e-47,\n",
    "1344.9, 2.2272e-47,\n",
    "1481.3, 2.4744e-47,\n",
    "1631.6, 2.7565e-47,\n",
    "1797.1, 3.0374e-47,\n",
    "1993.8, 3.4641e-47,\n",
    "])\n",
    "lz_masses = lz_webplot[0::2]\n",
    "lz_sensis = lz_webplot[1::2]\n",
    "exposure = 15.3 #ty"
   ]
  },
  {
   "cell_type": "code",
   "execution_count": 26,
   "metadata": {},
   "outputs": [],
   "source": [
    "np.savetxt(\"lz_15d3_si_1sided_proj.csv\",np.vstack([lz_masses,lz_sensis]).T, delimiter=\",\",header=\"mass,sensi\")"
   ]
  },
  {
   "cell_type": "code",
   "execution_count": 29,
   "metadata": {},
   "outputs": [],
   "source": [
    "np.savetxt?"
   ]
  },
  {
   "cell_type": "code",
   "execution_count": 27,
   "metadata": {},
   "outputs": [],
   "source": [
    "def get_curves(possible_parameters, working_point_pattern=\"*\"):\n",
    "    #this is needed since SD uses other masses, so we always have to check... Also makes \n",
    "    #runs a bit more robust to failures\n",
    "    ulm2 = np.zeros(len(possible_parameters))\n",
    "    ulm1 = np.zeros(len(possible_parameters))\n",
    "    ulmed = np.zeros(len(possible_parameters))\n",
    "    ulp1 = np.zeros(len(possible_parameters))\n",
    "    ulp2 = np.zeros(len(possible_parameters))\n",
    "    power3s = np.zeros(len(possible_parameters))\n",
    "    power5s = np.zeros(len(possible_parameters))\n",
    "    pclthresholds = np.zeros(len(possible_parameters))\n",
    "    wimp_mus = np.zeros(len(possible_parameters))\n",
    "    \n",
    "    file_exists = np.zeros(len(possible_parameters), dtype=bool)\n",
    "    \n",
    "    for i, parameter in enumerate(possible_parameters): \n",
    "        try:\n",
    "            if i==0:\n",
    "                print(working_point_pattern.format(parameter=parameter))\n",
    "            f = np.load(working_point_pattern.format(parameter=parameter), allow_pickle=True)\n",
    "            dulp = f[\"dulps\"].item()\n",
    "            ulm2[i] = dulp[-2]\n",
    "            ulm1[i] = dulp[-1]\n",
    "            ulmed[i] = dulp[0]\n",
    "            ulp1[i] = dulp[1]\n",
    "            ulp2[i] = dulp[2]\n",
    "            power3s[i] = float(f[\"power_3s\"])\n",
    "            power5s[i] = float(f[\"power_5s\"])\n",
    "            pclthresholds[i] = float(f[\"pcl_threshold_1scl90\"])\n",
    "            wimp_mus[i] = float(f[\"mu_wimp\"])\n",
    "            file_exists[i] = True\n",
    "        except:\n",
    "            pass\n",
    "    if np.sum(file_exists)==0:\n",
    "        print(\"No file found matching!\")\n",
    "        return None\n",
    "    print(possible_parameters, file_exists)\n",
    "    parameters = np.array(possible_parameters)[file_exists]\n",
    "    rets = dict(ulm2 = ulm2, ulm1 = ulm1, ulmed=ulmed, ulp1=ulp1,ulp2=ulp2,\n",
    "                power3s = power3s, power5s=power5s, \n",
    "                pclthresholds=pclthresholds, wimp_mus = wimp_mus)\n",
    "    for k,i in rets.items():\n",
    "        rets[k] = i[file_exists]\n",
    "    return parameters, rets"
   ]
  },
  {
   "cell_type": "code",
   "execution_count": 28,
   "metadata": {},
   "outputs": [],
   "source": [
    "possible_wimp_masses = [6,8,10,20,30,40,50,70,100,200,1000] + [5, 7, 8, 9, 10, 15, 20, 30, 40, 50, 70, 80, 100, 120, 150, 200, 300, 500, 700, 1000, 3300, 10000]\n",
    "working_point_pattern = (\"/home/kmoraa/scratch-midway/nt_MC_paperplots/MC_WIMP_Sensitivity_Paper/projections/v{version:s}/projection_v{version:s}_{exposure:.2f}ty_{interaction:s}\"\n",
    "                         \"_wimp_mass_{{parameter:d}}_er_nTSR0_rate_multiplier_1.00\"\n",
    "                         \"_h3_nTSR0_rate_forced_0.00_radiogenic_nTSR0_rate_multiplier_1.00_{sides:d}sided_\"\n",
    "                         \"signal_expectation_0.00.npz\")"
   ]
  },
  {
   "cell_type": "code",
   "execution_count": 32,
   "metadata": {
    "scrolled": true
   },
   "outputs": [
    {
     "name": "stdout",
     "output_type": "stream",
     "text": [
      "/home/kmoraa/scratch-midway/nt_MC_paperplots/MC_WIMP_Sensitivity_Paper/projections/v0.8/projection_v0.8_20.00ty_SI_wimp_mass_6_er_nTSR0_rate_multiplier_1.00_h3_nTSR0_rate_forced_0.00_radiogenic_nTSR0_rate_multiplier_1.00_2sided_signal_expectation_0.00.npz\n",
      "[6, 8, 10, 20, 30, 40, 50, 70, 100, 200, 1000, 5, 7, 8, 9, 10, 15, 20, 30, 40, 50, 70, 80, 100, 120, 150, 200, 300, 500, 700, 1000, 3300, 10000] [ True  True  True  True  True  True  True  True  True  True  True False\n",
      "  True  True  True  True  True  True  True  True  True  True  True  True\n",
      "  True  True  True  True  True  True  True  True  True]\n"
     ]
    }
   ],
   "source": [
    "ntproj = get_curves(possible_wimp_masses, working_point_pattern=working_point_pattern.format(version = \"0.8\", exposure = 20., interaction = \"SI\",sides=2 ))\n",
    "#ntproj[1][\"ulmed\"]"
   ]
  },
  {
   "cell_type": "code",
   "execution_count": 34,
   "metadata": {},
   "outputs": [],
   "source": [
    "f = np.load(\"/home/kmoraa/cevns_binference2//older_limits/cached_ul_151m_SR10.npz\",allow_pickle=True)\n",
    "sr1uld = f[\"uls\"].item()\n",
    "sr1masses = sorted(sr1uld.keys())\n",
    "sr1lims = [sr1uld[m]*1e-45 for m in sr1masses]\n",
    "uls_1t[\"SI\"] = sr1masses, sr1lims\n",
    "a = np.loadtxt(\"sd_n_only_limit.csv\",delimiter=\",\")\n",
    "uls_1t[\"SD_n_central\"] = a[:,0],a[:,1]\n",
    "a = np.loadtxt(\"sd_p_only_limit.csv\",delimiter=\",\")\n",
    "uls_1t[\"SD_p_central\"] = a[:,0],a[:,1]"
   ]
  },
  {
   "cell_type": "code",
   "execution_count": 35,
   "metadata": {},
   "outputs": [],
   "source": [
    "np.savetxt(\"xe1t_si_limit.csv\",np.vstack([sr1masses, sr1lims]).T,delimiter=\",\")"
   ]
  },
  {
   "cell_type": "code",
   "execution_count": 36,
   "metadata": {},
   "outputs": [],
   "source": [
    "f = np.load(\"nufloor.npz\",allow_pickle=True)\n",
    "nuf_mass = f[\"wimp_masses\"]\n",
    "nuf = f[\"floors\"].item()"
   ]
  },
  {
   "cell_type": "code",
   "execution_count": 37,
   "metadata": {},
   "outputs": [],
   "source": [
    "np.savez(\"darwin_projection_curves.npz\",sensiss=sensiss,\n",
    "                                       sensi_livetimes = livetimes, \n",
    "                                       sensi_masses = wimp_masses,\n",
    "                                       nuf_masses = nuf_mass,\n",
    "                                       nuf = nuf,\n",
    "                                       ntproj = ntproj,\n",
    "                                       \n",
    "                                       )"
   ]
  },
  {
   "cell_type": "code",
   "execution_count": null,
   "metadata": {},
   "outputs": [],
   "source": []
  },
  {
   "cell_type": "code",
   "execution_count": 94,
   "metadata": {},
   "outputs": [],
   "source": [
    "it = 0"
   ]
  },
  {
   "cell_type": "code",
   "execution_count": 95,
   "metadata": {},
   "outputs": [
    {
     "data": {
      "text/plain": [
       "dict_keys([200, 100, 20, 1000])"
      ]
     },
     "execution_count": 95,
     "metadata": {},
     "output_type": "execute_result"
    }
   ],
   "source": [
    "livetimesi.keys()"
   ]
  },
  {
   "cell_type": "code",
   "execution_count": 96,
   "metadata": {},
   "outputs": [],
   "source": [
    "from matplotlib.cm import get_cmap\n",
    "cmap = get_cmap(\"viridis_r\")"
   ]
  },
  {
   "cell_type": "code",
   "execution_count": 98,
   "metadata": {},
   "outputs": [],
   "source": [
    "def plot_interpolated_limit(wm,sensi,wmplot,**kwargs):\n",
    "    f = interp1d(np.log10(wm),np.log10(sensi),bounds_error = False, fill_value = np.inf)\n",
    "    plt.plot(wmplot, 10**f(np.log10(wmplot)),**kwargs)\n",
    "    "
   ]
  },
  {
   "cell_type": "code",
   "execution_count": 101,
   "metadata": {},
   "outputs": [],
   "source": [
    "plot_livetimes = [100,1000]"
   ]
  },
  {
   "cell_type": "code",
   "execution_count": 102,
   "metadata": {},
   "outputs": [
    {
     "data": {
      "image/png": "[encoded data removed]",
      "text/plain": [
       "<matplotlib.figure.Figure at 0x7fdaaec29a58>"
      ]
     },
     "metadata": {
      "needs_background": "light"
     },
     "output_type": "display_data"
    },
    {
     "data": {
      "image/png": "[encoded data removed]",
      "text/plain": [
       "<matplotlib.figure.Figure at 0x7fdaae5a6748>"
      ]
     },
     "metadata": {
      "needs_background": "light"
     },
     "output_type": "display_data"
    },
    {
     "data": {
      "image/png": "[encoded data removed]",
      "text/plain": [
       "<matplotlib.figure.Figure at 0x7fdaae6c3fd0>"
      ]
     },
     "metadata": {
      "needs_background": "light"
     },
     "output_type": "display_data"
    }
   ],
   "source": [
    "interaction = \"SD_p_central\"\n",
    "interaction = \"SI\"\n",
    "for interaction in interactions:\n",
    "    iname = interaction.split(\"_\")[0]\n",
    "    try:\n",
    "        iname += \",\" +interaction.split(\"_\")[1] \n",
    "    except:\n",
    "        pass\n",
    "    sensis = sensiss[interaction]\n",
    "    plt.clf()\n",
    "    plot_interpolated_limit(nuf_mass,nuf[interaction],nuf_mass,linewidth=10,linestyle=\"-\",alpha=0.4,color=\"k\")\n",
    "    if interaction == \"SI\":\n",
    "        plot_wimp_masses = np.logspace(np.log10(6),3,1000)\n",
    "        plot_interpolated_limit(uls_1t[interaction][0],uls_1t[interaction][1],plot_wimp_masses,color=\"dodgerblue\")\n",
    "        plot_interpolated_limit(lz_masses, lz_sensis,plot_wimp_masses,linestyle=\"-.\",color=\"darkorange\")\n",
    "        plot_interpolated_limit(ntproj[0],ntproj[1][\"ulmed\"]*1e-45,plot_wimp_masses,linestyle=\"-.\",color=\"olive\")\n",
    "        #f_xe1t_ul = interp1d(np.log10(uls_1t[interaction][0],uls_1t[interaction][1],bounds_error=False, fill_value=np.inf)\n",
    "        #plt.plot(plot_wimp_masses, f_xe1t_ul(plot_wimp_masses) , color=\"k\",linestyle=\"-\",label=\"1T SI\")\n",
    "        #\n",
    "        #f_lz15d3_sensi = interp1d(lz_masses, lz_sensis,bounds_error=False, fill_value=np.inf)\n",
    "        #plt.plot(plot_wimp_masses, f_lz15d3_sensi(plot_wimp_masses) , color=\"k\",linestyle=\"-\",label=\"LZ 15.3*\")\n",
    "        plt.text(1000,1e-45,\"XENON1T\\n$1\\mathrm{ty}}$\",color=\"dodgerblue\")\n",
    "        plt.text(1000,5e-47,\"XENONnT $20\\mathrm{ty}}$\",color=\"olive\")\n",
    "        plt.text(1000,2e-47,\"LZ $15.3\\mathrm{ty}}$*\",color=\"darkorange\")\n",
    "        \n",
    "    plt.text(20,3*np.min(uls_1t[interaction][1]),\"XENON1T $1\\mathrm{ty}$\")\n",
    "    for livetime in plot_livetimes:\n",
    "        it = livetimesi[livetime]\n",
    "        color = cmap((it+1)/(len(livetimes)+1))\n",
    "        plt.plot(wimp_masses,sensis[0][it]*1e-45,color=color,linestyle=\"--\")\n",
    "        if livetime<1000:\n",
    "            offset = 1.\n",
    "        else:\n",
    "            offset = 0.5\n",
    "        plt.text(1100,offset * sensis[0][it][-1]*1e-45,\"${:.0f} \\mathrm{{ty}}$\".format(livetime),color=color)\n",
    "    plt.yscale(\"log\")\n",
    "    plt.xscale(\"log\")\n",
    "    #plt.ylim(1e-50,1e-41)\n",
    "    plt.ylim(np.min(sensis[0][-1])*0.1*1e-45,np.max(sensis[2][0])*1e-45)\n",
    "    #plt.ylim(1e-51,1e-40)\n",
    "    plt.xlim(6,5000)\n",
    "    plt.ylabel(\"WIMP-nucleon cross-section $\\\\sigma_\\\\mathrm{\" +iname+ \"}$ [cm$^2$]\")\n",
    "    plt.xlabel(\"WIMP mass [GeV/c$^2$]\")\n",
    "    for fmt in [\".png\",\".pdf\"]:\n",
    "        plt.savefig(\"darwin_projection_{:s}_vsmass.{:s}\".format(interaction,fmt))\n",
    "    plt.show()\n",
    "    "
   ]
  },
  {
   "cell_type": "code",
   "execution_count": 103,
   "metadata": {},
   "outputs": [
    {
     "data": {
      "image/png": "[encoded data removed]",
      "text/plain": [
       "<matplotlib.figure.Figure at 0x7fdaae4ffe10>"
      ]
     },
     "metadata": {
      "needs_background": "light"
     },
     "output_type": "display_data"
    }
   ],
   "source": [
    "plt.clf()\n",
    "livetime = 100.\n",
    "it = livetimesi[livetime]\n",
    "plt.plot(sr1masses, sr1lims , color=\"magenta\",linestyle=\"-\",label=\"1T SI\")\n",
    "plt.fill_between(wimp_masses,sensis[-2][it]*1e-45,sensis[2][it]*1e-45,color=\"dodgerblue\",alpha=0.5)\n",
    "plt.fill_between(wimp_masses,sensis[-1][it]*1e-45,sensis[1][it]*1e-45,color=\"dodgerblue\")\n",
    "plt.plot(wimp_masses,sensis[0][it]*1e-45,color=\"darkblue\")\n",
    "plt.yscale(\"log\")\n",
    "plt.ylim(np.min(sensis[-2][it])*0.5*1e-45,np.max(sensis[2][it])*2*1e-45)\n",
    "plt.xlim(4,1000)\n",
    "plt.xscale(\"log\")\n",
    "plt.ylabel(\"WIMP-nucleon cross-section $\\\\sigma_\\\\mathrm{SI}$ [cm$^2$]\")\n",
    "plt.xlabel(\"WIMP mass [GeV/c$^2$]\")\n",
    "plt.show()"
   ]
  },
  {
   "cell_type": "code",
   "execution_count": 105,
   "metadata": {},
   "outputs": [
    {
     "data": {
      "text/plain": [
       "[100, 200, 1000]"
      ]
     },
     "execution_count": 105,
     "metadata": {},
     "output_type": "execute_result"
    }
   ],
   "source": [
    "livetimes"
   ]
  },
  {
   "cell_type": "code",
   "execution_count": 116,
   "metadata": {},
   "outputs": [
    {
     "data": {
      "image/png": "[encoded data removed]",
      "text/plain": [
       "<matplotlib.figure.Figure at 0x7fdaaefe3c88>"
      ]
     },
     "metadata": {
      "needs_background": "light"
     },
     "output_type": "display_data"
    }
   ],
   "source": [
    "plt.clf()\n",
    "wimp_mass = 4\n",
    "wmi = wimp_massesi[wimp_mass]\n",
    "interaction = \"SD_n_central\"\n",
    "sensis = sensiss[interaction]\n",
    "#plt.plot(sr1masses, sr1lims , color=\"magenta\",linestyle=\"-\",label=\"1T SI\")\n",
    "#plt.fill_between(wimp_masses,sensis[-2][it]*1e-45,sensis[2][it]*1e-45,color=\"dodgerblue\",alpha=0.5)\n",
    "#plt.fill_between(wimp_masses,sensis[-1][it]*1e-45,sensis[1][it]*1e-45,color=\"dodgerblue\")\n",
    "plt.fill_between(livetimes,sensis[-1][:,wmi]*1e-45,sensis[1][:,wmi]*1e-45,color=\"dodgerblue\")\n",
    "plt.plot(livetimes,sensis[0][:,wmi]*1e-45,color=\"darkblue\")\n",
    "plt.scatter(livetimes,sensis[0][:,wmi]*1e-45,color=\"darkblue\")\n",
    "x = np.logspace(0,3,100)\n",
    "for ex,ls in zip([-1., -0.5],[\"--\",\"-.\"]):\n",
    "    for si in np.logspace(-50,-30,21):\n",
    "        plt.plot(x,si * x**ex,linestyle=ls,color=\"k\",linewidth=1)\n",
    "plt.yscale(\"log\")\n",
    "plt.xscale(\"log\")\n",
    "#plt.ylim(1e-50,1e-41)\n",
    "plt.ylim(sensis[-2][-1,wmi]*0.5*1e-45,sensis[2][0,wmi]*2*1e-45)\n",
    "plt.xlim(15,1500)\n",
    "plt.ylabel(\"WIMP-nucleon cross-section $\\\\sigma_\\\\mathrm{SI}$ [cm$^2$]\")\n",
    "plt.xlabel(\"livetime [ty]\")\n",
    "plt.show()"
   ]
  },
  {
   "cell_type": "code",
   "execution_count": 66,
   "metadata": {},
   "outputs": [],
   "source": [
    "generate_args_base = dict(\n",
    "    ernusun_rate_multiplier = 1.,\n",
    "    nrnusun_rate_multiplier = 1.,\n",
    "    xe136_rate_multiplier   = 1.,\n",
    "    atmnu_rate_multiplier   = 1.,\n",
    "    snnu_rate_multiplier    = 1.,\n",
    "    signal_rate_multiplier  = 0.,\n",
    "    )\n",
    "fixed_base = dict(\n",
    ")  \n",
    "\n",
    "\n",
    "parameters_to_vary = dict(\n",
    "    #wimp_mass = [4,5,6,7,8,10,15,20,30,40,50,70,100,200,300,400,1000],\n",
    "    wimp_mass = [4,5,6,7,8,10],\n",
    "    #livetime = [1,20,100,200,1000],\n",
    "    #livetime = [20,100,200,1000],\n",
    "    livetime = [100,200,1000],\n",
    "    #signal_expectation = np.linspace(0,300,31),\n",
    "    signal_expectation = np.linspace(0,2000,21),\n",
    "    #inference_object_args = [{\"interaction\":i,\"binned\":True} for i in [\"SI\",\"SD_p_central\",\"SD_n_central\",\"WIMPPion\"]],\n",
    "    #livetime = [1000]\n",
    "    )\n",
    "parameters_to_zip = dict()\n",
    "\n",
    "\n",
    "output_pattern = \"batch_results/toymc_wimppower_wimpmass_{wimp_mass:d}_{inference_object_args[interaction]:s}_livetime_{livetime:.2f}_signal_{signal_expectation:.2f}.hdf5\"\n",
    "parameters_in_common = dict(\n",
    "    extra_args = [{},{\"signal_rate_multiplier\":0.}],\n",
    "    output_filename = output_pattern,\n",
    "    #inference_class_name = \"binference.likelihoods.ll_cevns_1t.InferenceObject\",\n",
    "    inference_class_name = \"darwin_likelihood.darwin_likelihood.InferenceObject\",\n",
    "    signal_component_name=\"signal\",\n",
    "    n_mc = 1000,\n",
    "    n_batch = 1,\n",
    "    execution_time = 80,\n",
    "    limit_threshold = None,\n",
    "    compute_confidence_interval = False,\n",
    "    generate_args = generate_args_base, \n",
    "    extra_args_all = fixed_base, \n",
    "    inference_object_args = {\"interaction\":\"SI\",\"binned\":True} ,\n",
    "    \n",
    ")"
   ]
  },
  {
   "cell_type": "code",
   "execution_count": 67,
   "metadata": {},
   "outputs": [
    {
     "name": "stdout",
     "output_type": "stream",
     "text": [
      "filename batch_results/toymc_wimppower_wimpmass_{wimp_mass:d}_{inference_object_args[interaction]:s}_livetime_{livetime:.2f}_signal_{signal_expectation:.2f}.hdf5\n",
      "filename batch_results/toymc_wimppower_wimpmass_{wimp_mass:d}_{inference_object_args[interaction]:s}_livetime_{livetime:.2f}_signal_{signal_expectation:.2f}.hdf5\n",
      "filename batch_results/toymc_wimppower_wimpmass_{wimp_mass:d}_{inference_object_args[interaction]:s}_livetime_{livetime:.2f}_signal_{signal_expectation:.2f}.hdf5\n",
      "filename batch_results/toymc_wimppower_wimpmass_{wimp_mass:d}_{inference_object_args[interaction]:s}_livetime_{livetime:.2f}_signal_{signal_expectation:.2f}.hdf5\n",
      "filename batch_results/toymc_wimppower_wimpmass_{wimp_mass:d}_{inference_object_args[interaction]:s}_livetime_{livetime:.2f}_signal_{signal_expectation:.2f}.hdf5\n",
      "filename batch_results/toymc_wimppower_wimpmass_{wimp_mass:d}_{inference_object_args[interaction]:s}_livetime_{livetime:.2f}_signal_{signal_expectation:.2f}.hdf5\n",
      "filename batch_results/toymc_wimppower_wimpmass_{wimp_mass:d}_{inference_object_args[interaction]:s}_livetime_{livetime:.2f}_signal_{signal_expectation:.2f}.hdf5\n",
      "filename batch_results/toymc_wimppower_wimpmass_{wimp_mass:d}_{inference_object_args[interaction]:s}_livetime_{livetime:.2f}_signal_{signal_expectation:.2f}.hdf5\n",
      "filename batch_results/toymc_wimppower_wimpmass_{wimp_mass:d}_{inference_object_args[interaction]:s}_livetime_{livetime:.2f}_signal_{signal_expectation:.2f}.hdf5\n",
      "filename batch_results/toymc_wimppower_wimpmass_{wimp_mass:d}_{inference_object_args[interaction]:s}_livetime_{livetime:.2f}_signal_{signal_expectation:.2f}.hdf5\n",
      "filename batch_results/toymc_wimppower_wimpmass_{wimp_mass:d}_{inference_object_args[interaction]:s}_livetime_{livetime:.2f}_signal_{signal_expectation:.2f}.hdf5\n",
      "filename batch_results/toymc_wimppower_wimpmass_{wimp_mass:d}_{inference_object_args[interaction]:s}_livetime_{livetime:.2f}_signal_{signal_expectation:.2f}.hdf5\n",
      "filename batch_results/toymc_wimppower_wimpmass_{wimp_mass:d}_{inference_object_args[interaction]:s}_livetime_{livetime:.2f}_signal_{signal_expectation:.2f}.hdf5\n",
      "filename batch_results/toymc_wimppower_wimpmass_{wimp_mass:d}_{inference_object_args[interaction]:s}_livetime_{livetime:.2f}_signal_{signal_expectation:.2f}.hdf5\n",
      "filename batch_results/toymc_wimppower_wimpmass_{wimp_mass:d}_{inference_object_args[interaction]:s}_livetime_{livetime:.2f}_signal_{signal_expectation:.2f}.hdf5\n",
      "filename batch_results/toymc_wimppower_wimpmass_{wimp_mass:d}_{inference_object_args[interaction]:s}_livetime_{livetime:.2f}_signal_{signal_expectation:.2f}.hdf5\n",
      "filename batch_results/toymc_wimppower_wimpmass_{wimp_mass:d}_{inference_object_args[interaction]:s}_livetime_{livetime:.2f}_signal_{signal_expectation:.2f}.hdf5\n",
      "filename batch_results/toymc_wimppower_wimpmass_{wimp_mass:d}_{inference_object_args[interaction]:s}_livetime_{livetime:.2f}_signal_{signal_expectation:.2f}.hdf5\n",
      "filename batch_results/toymc_wimppower_wimpmass_{wimp_mass:d}_{inference_object_args[interaction]:s}_livetime_{livetime:.2f}_signal_{signal_expectation:.2f}.hdf5\n",
      "filename batch_results/toymc_wimppower_wimpmass_{wimp_mass:d}_{inference_object_args[interaction]:s}_livetime_{livetime:.2f}_signal_{signal_expectation:.2f}.hdf5\n",
      "filename batch_results/toymc_wimppower_wimpmass_{wimp_mass:d}_{inference_object_args[interaction]:s}_livetime_{livetime:.2f}_signal_{signal_expectation:.2f}.hdf5\n",
      "filename batch_results/toymc_wimppower_wimpmass_{wimp_mass:d}_{inference_object_args[interaction]:s}_livetime_{livetime:.2f}_signal_{signal_expectation:.2f}.hdf5\n",
      "filename batch_results/toymc_wimppower_wimpmass_{wimp_mass:d}_{inference_object_args[interaction]:s}_livetime_{livetime:.2f}_signal_{signal_expectation:.2f}.hdf5\n",
      "filename batch_results/toymc_wimppower_wimpmass_{wimp_mass:d}_{inference_object_args[interaction]:s}_livetime_{livetime:.2f}_signal_{signal_expectation:.2f}.hdf5\n",
      "filename batch_results/toymc_wimppower_wimpmass_{wimp_mass:d}_{inference_object_args[interaction]:s}_livetime_{livetime:.2f}_signal_{signal_expectation:.2f}.hdf5\n",
      "filename batch_results/toymc_wimppower_wimpmass_{wimp_mass:d}_{inference_object_args[interaction]:s}_livetime_{livetime:.2f}_signal_{signal_expectation:.2f}.hdf5\n",
      "filename batch_results/toymc_wimppower_wimpmass_{wimp_mass:d}_{inference_object_args[interaction]:s}_livetime_{livetime:.2f}_signal_{signal_expectation:.2f}.hdf5\n",
      "filename batch_results/toymc_wimppower_wimpmass_{wimp_mass:d}_{inference_object_args[interaction]:s}_livetime_{livetime:.2f}_signal_{signal_expectation:.2f}.hdf5\n",
      "filename batch_results/toymc_wimppower_wimpmass_{wimp_mass:d}_{inference_object_args[interaction]:s}_livetime_{livetime:.2f}_signal_{signal_expectation:.2f}.hdf5\n",
      "filename batch_results/toymc_wimppower_wimpmass_{wimp_mass:d}_{inference_object_args[interaction]:s}_livetime_{livetime:.2f}_signal_{signal_expectation:.2f}.hdf5\n",
      "filename batch_results/toymc_wimppower_wimpmass_{wimp_mass:d}_{inference_object_args[interaction]:s}_livetime_{livetime:.2f}_signal_{signal_expectation:.2f}.hdf5\n",
      "filename batch_results/toymc_wimppower_wimpmass_{wimp_mass:d}_{inference_object_args[interaction]:s}_livetime_{livetime:.2f}_signal_{signal_expectation:.2f}.hdf5\n",
      "filename batch_results/toymc_wimppower_wimpmass_{wimp_mass:d}_{inference_object_args[interaction]:s}_livetime_{livetime:.2f}_signal_{signal_expectation:.2f}.hdf5\n",
      "filename batch_results/toymc_wimppower_wimpmass_{wimp_mass:d}_{inference_object_args[interaction]:s}_livetime_{livetime:.2f}_signal_{signal_expectation:.2f}.hdf5\n",
      "filename batch_results/toymc_wimppower_wimpmass_{wimp_mass:d}_{inference_object_args[interaction]:s}_livetime_{livetime:.2f}_signal_{signal_expectation:.2f}.hdf5\n",
      "filename batch_results/toymc_wimppower_wimpmass_{wimp_mass:d}_{inference_object_args[interaction]:s}_livetime_{livetime:.2f}_signal_{signal_expectation:.2f}.hdf5\n",
      "filename batch_results/toymc_wimppower_wimpmass_{wimp_mass:d}_{inference_object_args[interaction]:s}_livetime_{livetime:.2f}_signal_{signal_expectation:.2f}.hdf5\n",
      "filename batch_results/toymc_wimppower_wimpmass_{wimp_mass:d}_{inference_object_args[interaction]:s}_livetime_{livetime:.2f}_signal_{signal_expectation:.2f}.hdf5\n",
      "filename batch_results/toymc_wimppower_wimpmass_{wimp_mass:d}_{inference_object_args[interaction]:s}_livetime_{livetime:.2f}_signal_{signal_expectation:.2f}.hdf5\n",
      "filename batch_results/toymc_wimppower_wimpmass_{wimp_mass:d}_{inference_object_args[interaction]:s}_livetime_{livetime:.2f}_signal_{signal_expectation:.2f}.hdf5\n",
      "filename batch_results/toymc_wimppower_wimpmass_{wimp_mass:d}_{inference_object_args[interaction]:s}_livetime_{livetime:.2f}_signal_{signal_expectation:.2f}.hdf5\n",
      "filename batch_results/toymc_wimppower_wimpmass_{wimp_mass:d}_{inference_object_args[interaction]:s}_livetime_{livetime:.2f}_signal_{signal_expectation:.2f}.hdf5\n",
      "filename batch_results/toymc_wimppower_wimpmass_{wimp_mass:d}_{inference_object_args[interaction]:s}_livetime_{livetime:.2f}_signal_{signal_expectation:.2f}.hdf5\n",
      "filename batch_results/toymc_wimppower_wimpmass_{wimp_mass:d}_{inference_object_args[interaction]:s}_livetime_{livetime:.2f}_signal_{signal_expectation:.2f}.hdf5\n",
      "filename batch_results/toymc_wimppower_wimpmass_{wimp_mass:d}_{inference_object_args[interaction]:s}_livetime_{livetime:.2f}_signal_{signal_expectation:.2f}.hdf5\n",
      "filename batch_results/toymc_wimppower_wimpmass_{wimp_mass:d}_{inference_object_args[interaction]:s}_livetime_{livetime:.2f}_signal_{signal_expectation:.2f}.hdf5\n",
      "filename batch_results/toymc_wimppower_wimpmass_{wimp_mass:d}_{inference_object_args[interaction]:s}_livetime_{livetime:.2f}_signal_{signal_expectation:.2f}.hdf5\n",
      "filename batch_results/toymc_wimppower_wimpmass_{wimp_mass:d}_{inference_object_args[interaction]:s}_livetime_{livetime:.2f}_signal_{signal_expectation:.2f}.hdf5\n",
      "filename batch_results/toymc_wimppower_wimpmass_{wimp_mass:d}_{inference_object_args[interaction]:s}_livetime_{livetime:.2f}_signal_{signal_expectation:.2f}.hdf5\n",
      "filename batch_results/toymc_wimppower_wimpmass_{wimp_mass:d}_{inference_object_args[interaction]:s}_livetime_{livetime:.2f}_signal_{signal_expectation:.2f}.hdf5\n",
      "filename batch_results/toymc_wimppower_wimpmass_{wimp_mass:d}_{inference_object_args[interaction]:s}_livetime_{livetime:.2f}_signal_{signal_expectation:.2f}.hdf5\n",
      "filename batch_results/toymc_wimppower_wimpmass_{wimp_mass:d}_{inference_object_args[interaction]:s}_livetime_{livetime:.2f}_signal_{signal_expectation:.2f}.hdf5\n",
      "filename batch_results/toymc_wimppower_wimpmass_{wimp_mass:d}_{inference_object_args[interaction]:s}_livetime_{livetime:.2f}_signal_{signal_expectation:.2f}.hdf5\n",
      "filename batch_results/toymc_wimppower_wimpmass_{wimp_mass:d}_{inference_object_args[interaction]:s}_livetime_{livetime:.2f}_signal_{signal_expectation:.2f}.hdf5\n",
      "filename batch_results/toymc_wimppower_wimpmass_{wimp_mass:d}_{inference_object_args[interaction]:s}_livetime_{livetime:.2f}_signal_{signal_expectation:.2f}.hdf5\n",
      "filename batch_results/toymc_wimppower_wimpmass_{wimp_mass:d}_{inference_object_args[interaction]:s}_livetime_{livetime:.2f}_signal_{signal_expectation:.2f}.hdf5\n",
      "filename batch_results/toymc_wimppower_wimpmass_{wimp_mass:d}_{inference_object_args[interaction]:s}_livetime_{livetime:.2f}_signal_{signal_expectation:.2f}.hdf5\n",
      "filename batch_results/toymc_wimppower_wimpmass_{wimp_mass:d}_{inference_object_args[interaction]:s}_livetime_{livetime:.2f}_signal_{signal_expectation:.2f}.hdf5\n",
      "filename batch_results/toymc_wimppower_wimpmass_{wimp_mass:d}_{inference_object_args[interaction]:s}_livetime_{livetime:.2f}_signal_{signal_expectation:.2f}.hdf5\n",
      "filename batch_results/toymc_wimppower_wimpmass_{wimp_mass:d}_{inference_object_args[interaction]:s}_livetime_{livetime:.2f}_signal_{signal_expectation:.2f}.hdf5\n",
      "filename batch_results/toymc_wimppower_wimpmass_{wimp_mass:d}_{inference_object_args[interaction]:s}_livetime_{livetime:.2f}_signal_{signal_expectation:.2f}.hdf5\n",
      "filename batch_results/toymc_wimppower_wimpmass_{wimp_mass:d}_{inference_object_args[interaction]:s}_livetime_{livetime:.2f}_signal_{signal_expectation:.2f}.hdf5\n",
      "filename batch_results/toymc_wimppower_wimpmass_{wimp_mass:d}_{inference_object_args[interaction]:s}_livetime_{livetime:.2f}_signal_{signal_expectation:.2f}.hdf5\n",
      "filename batch_results/toymc_wimppower_wimpmass_{wimp_mass:d}_{inference_object_args[interaction]:s}_livetime_{livetime:.2f}_signal_{signal_expectation:.2f}.hdf5\n",
      "filename batch_results/toymc_wimppower_wimpmass_{wimp_mass:d}_{inference_object_args[interaction]:s}_livetime_{livetime:.2f}_signal_{signal_expectation:.2f}.hdf5\n",
      "filename batch_results/toymc_wimppower_wimpmass_{wimp_mass:d}_{inference_object_args[interaction]:s}_livetime_{livetime:.2f}_signal_{signal_expectation:.2f}.hdf5\n",
      "filename batch_results/toymc_wimppower_wimpmass_{wimp_mass:d}_{inference_object_args[interaction]:s}_livetime_{livetime:.2f}_signal_{signal_expectation:.2f}.hdf5\n",
      "filename batch_results/toymc_wimppower_wimpmass_{wimp_mass:d}_{inference_object_args[interaction]:s}_livetime_{livetime:.2f}_signal_{signal_expectation:.2f}.hdf5\n",
      "filename batch_results/toymc_wimppower_wimpmass_{wimp_mass:d}_{inference_object_args[interaction]:s}_livetime_{livetime:.2f}_signal_{signal_expectation:.2f}.hdf5\n",
      "filename batch_results/toymc_wimppower_wimpmass_{wimp_mass:d}_{inference_object_args[interaction]:s}_livetime_{livetime:.2f}_signal_{signal_expectation:.2f}.hdf5\n",
      "filename batch_results/toymc_wimppower_wimpmass_{wimp_mass:d}_{inference_object_args[interaction]:s}_livetime_{livetime:.2f}_signal_{signal_expectation:.2f}.hdf5\n",
      "filename batch_results/toymc_wimppower_wimpmass_{wimp_mass:d}_{inference_object_args[interaction]:s}_livetime_{livetime:.2f}_signal_{signal_expectation:.2f}.hdf5\n",
      "filename batch_results/toymc_wimppower_wimpmass_{wimp_mass:d}_{inference_object_args[interaction]:s}_livetime_{livetime:.2f}_signal_{signal_expectation:.2f}.hdf5\n",
      "filename batch_results/toymc_wimppower_wimpmass_{wimp_mass:d}_{inference_object_args[interaction]:s}_livetime_{livetime:.2f}_signal_{signal_expectation:.2f}.hdf5\n",
      "filename batch_results/toymc_wimppower_wimpmass_{wimp_mass:d}_{inference_object_args[interaction]:s}_livetime_{livetime:.2f}_signal_{signal_expectation:.2f}.hdf5\n",
      "filename batch_results/toymc_wimppower_wimpmass_{wimp_mass:d}_{inference_object_args[interaction]:s}_livetime_{livetime:.2f}_signal_{signal_expectation:.2f}.hdf5\n",
      "filename batch_results/toymc_wimppower_wimpmass_{wimp_mass:d}_{inference_object_args[interaction]:s}_livetime_{livetime:.2f}_signal_{signal_expectation:.2f}.hdf5\n",
      "filename batch_results/toymc_wimppower_wimpmass_{wimp_mass:d}_{inference_object_args[interaction]:s}_livetime_{livetime:.2f}_signal_{signal_expectation:.2f}.hdf5\n",
      "filename batch_results/toymc_wimppower_wimpmass_{wimp_mass:d}_{inference_object_args[interaction]:s}_livetime_{livetime:.2f}_signal_{signal_expectation:.2f}.hdf5\n",
      "filename batch_results/toymc_wimppower_wimpmass_{wimp_mass:d}_{inference_object_args[interaction]:s}_livetime_{livetime:.2f}_signal_{signal_expectation:.2f}.hdf5\n",
      "filename batch_results/toymc_wimppower_wimpmass_{wimp_mass:d}_{inference_object_args[interaction]:s}_livetime_{livetime:.2f}_signal_{signal_expectation:.2f}.hdf5\n",
      "filename batch_results/toymc_wimppower_wimpmass_{wimp_mass:d}_{inference_object_args[interaction]:s}_livetime_{livetime:.2f}_signal_{signal_expectation:.2f}.hdf5\n",
      "filename batch_results/toymc_wimppower_wimpmass_{wimp_mass:d}_{inference_object_args[interaction]:s}_livetime_{livetime:.2f}_signal_{signal_expectation:.2f}.hdf5\n",
      "filename batch_results/toymc_wimppower_wimpmass_{wimp_mass:d}_{inference_object_args[interaction]:s}_livetime_{livetime:.2f}_signal_{signal_expectation:.2f}.hdf5\n",
      "filename batch_results/toymc_wimppower_wimpmass_{wimp_mass:d}_{inference_object_args[interaction]:s}_livetime_{livetime:.2f}_signal_{signal_expectation:.2f}.hdf5\n",
      "filename batch_results/toymc_wimppower_wimpmass_{wimp_mass:d}_{inference_object_args[interaction]:s}_livetime_{livetime:.2f}_signal_{signal_expectation:.2f}.hdf5\n",
      "filename batch_results/toymc_wimppower_wimpmass_{wimp_mass:d}_{inference_object_args[interaction]:s}_livetime_{livetime:.2f}_signal_{signal_expectation:.2f}.hdf5\n",
      "filename batch_results/toymc_wimppower_wimpmass_{wimp_mass:d}_{inference_object_args[interaction]:s}_livetime_{livetime:.2f}_signal_{signal_expectation:.2f}.hdf5\n",
      "filename batch_results/toymc_wimppower_wimpmass_{wimp_mass:d}_{inference_object_args[interaction]:s}_livetime_{livetime:.2f}_signal_{signal_expectation:.2f}.hdf5\n",
      "filename batch_results/toymc_wimppower_wimpmass_{wimp_mass:d}_{inference_object_args[interaction]:s}_livetime_{livetime:.2f}_signal_{signal_expectation:.2f}.hdf5\n",
      "filename batch_results/toymc_wimppower_wimpmass_{wimp_mass:d}_{inference_object_args[interaction]:s}_livetime_{livetime:.2f}_signal_{signal_expectation:.2f}.hdf5\n",
      "filename batch_results/toymc_wimppower_wimpmass_{wimp_mass:d}_{inference_object_args[interaction]:s}_livetime_{livetime:.2f}_signal_{signal_expectation:.2f}.hdf5\n",
      "filename batch_results/toymc_wimppower_wimpmass_{wimp_mass:d}_{inference_object_args[interaction]:s}_livetime_{livetime:.2f}_signal_{signal_expectation:.2f}.hdf5\n",
      "filename batch_results/toymc_wimppower_wimpmass_{wimp_mass:d}_{inference_object_args[interaction]:s}_livetime_{livetime:.2f}_signal_{signal_expectation:.2f}.hdf5\n",
      "filename batch_results/toymc_wimppower_wimpmass_{wimp_mass:d}_{inference_object_args[interaction]:s}_livetime_{livetime:.2f}_signal_{signal_expectation:.2f}.hdf5\n",
      "filename batch_results/toymc_wimppower_wimpmass_{wimp_mass:d}_{inference_object_args[interaction]:s}_livetime_{livetime:.2f}_signal_{signal_expectation:.2f}.hdf5\n",
      "filename batch_results/toymc_wimppower_wimpmass_{wimp_mass:d}_{inference_object_args[interaction]:s}_livetime_{livetime:.2f}_signal_{signal_expectation:.2f}.hdf5\n",
      "filename batch_results/toymc_wimppower_wimpmass_{wimp_mass:d}_{inference_object_args[interaction]:s}_livetime_{livetime:.2f}_signal_{signal_expectation:.2f}.hdf5\n",
      "filename batch_results/toymc_wimppower_wimpmass_{wimp_mass:d}_{inference_object_args[interaction]:s}_livetime_{livetime:.2f}_signal_{signal_expectation:.2f}.hdf5\n",
      "filename batch_results/toymc_wimppower_wimpmass_{wimp_mass:d}_{inference_object_args[interaction]:s}_livetime_{livetime:.2f}_signal_{signal_expectation:.2f}.hdf5\n",
      "filename batch_results/toymc_wimppower_wimpmass_{wimp_mass:d}_{inference_object_args[interaction]:s}_livetime_{livetime:.2f}_signal_{signal_expectation:.2f}.hdf5\n",
      "filename batch_results/toymc_wimppower_wimpmass_{wimp_mass:d}_{inference_object_args[interaction]:s}_livetime_{livetime:.2f}_signal_{signal_expectation:.2f}.hdf5\n",
      "filename batch_results/toymc_wimppower_wimpmass_{wimp_mass:d}_{inference_object_args[interaction]:s}_livetime_{livetime:.2f}_signal_{signal_expectation:.2f}.hdf5\n",
      "filename batch_results/toymc_wimppower_wimpmass_{wimp_mass:d}_{inference_object_args[interaction]:s}_livetime_{livetime:.2f}_signal_{signal_expectation:.2f}.hdf5\n",
      "filename batch_results/toymc_wimppower_wimpmass_{wimp_mass:d}_{inference_object_args[interaction]:s}_livetime_{livetime:.2f}_signal_{signal_expectation:.2f}.hdf5\n",
      "filename batch_results/toymc_wimppower_wimpmass_{wimp_mass:d}_{inference_object_args[interaction]:s}_livetime_{livetime:.2f}_signal_{signal_expectation:.2f}.hdf5\n",
      "filename batch_results/toymc_wimppower_wimpmass_{wimp_mass:d}_{inference_object_args[interaction]:s}_livetime_{livetime:.2f}_signal_{signal_expectation:.2f}.hdf5\n",
      "filename batch_results/toymc_wimppower_wimpmass_{wimp_mass:d}_{inference_object_args[interaction]:s}_livetime_{livetime:.2f}_signal_{signal_expectation:.2f}.hdf5\n",
      "filename batch_results/toymc_wimppower_wimpmass_{wimp_mass:d}_{inference_object_args[interaction]:s}_livetime_{livetime:.2f}_signal_{signal_expectation:.2f}.hdf5\n",
      "filename batch_results/toymc_wimppower_wimpmass_{wimp_mass:d}_{inference_object_args[interaction]:s}_livetime_{livetime:.2f}_signal_{signal_expectation:.2f}.hdf5\n",
      "filename batch_results/toymc_wimppower_wimpmass_{wimp_mass:d}_{inference_object_args[interaction]:s}_livetime_{livetime:.2f}_signal_{signal_expectation:.2f}.hdf5\n",
      "filename batch_results/toymc_wimppower_wimpmass_{wimp_mass:d}_{inference_object_args[interaction]:s}_livetime_{livetime:.2f}_signal_{signal_expectation:.2f}.hdf5\n",
      "filename batch_results/toymc_wimppower_wimpmass_{wimp_mass:d}_{inference_object_args[interaction]:s}_livetime_{livetime:.2f}_signal_{signal_expectation:.2f}.hdf5\n",
      "filename batch_results/toymc_wimppower_wimpmass_{wimp_mass:d}_{inference_object_args[interaction]:s}_livetime_{livetime:.2f}_signal_{signal_expectation:.2f}.hdf5\n",
      "filename batch_results/toymc_wimppower_wimpmass_{wimp_mass:d}_{inference_object_args[interaction]:s}_livetime_{livetime:.2f}_signal_{signal_expectation:.2f}.hdf5\n",
      "filename batch_results/toymc_wimppower_wimpmass_{wimp_mass:d}_{inference_object_args[interaction]:s}_livetime_{livetime:.2f}_signal_{signal_expectation:.2f}.hdf5\n",
      "filename batch_results/toymc_wimppower_wimpmass_{wimp_mass:d}_{inference_object_args[interaction]:s}_livetime_{livetime:.2f}_signal_{signal_expectation:.2f}.hdf5\n",
      "filename batch_results/toymc_wimppower_wimpmass_{wimp_mass:d}_{inference_object_args[interaction]:s}_livetime_{livetime:.2f}_signal_{signal_expectation:.2f}.hdf5\n",
      "filename batch_results/toymc_wimppower_wimpmass_{wimp_mass:d}_{inference_object_args[interaction]:s}_livetime_{livetime:.2f}_signal_{signal_expectation:.2f}.hdf5\n",
      "filename batch_results/toymc_wimppower_wimpmass_{wimp_mass:d}_{inference_object_args[interaction]:s}_livetime_{livetime:.2f}_signal_{signal_expectation:.2f}.hdf5\n",
      "filename batch_results/toymc_wimppower_wimpmass_{wimp_mass:d}_{inference_object_args[interaction]:s}_livetime_{livetime:.2f}_signal_{signal_expectation:.2f}.hdf5\n",
      "filename batch_results/toymc_wimppower_wimpmass_{wimp_mass:d}_{inference_object_args[interaction]:s}_livetime_{livetime:.2f}_signal_{signal_expectation:.2f}.hdf5\n",
      "filename batch_results/toymc_wimppower_wimpmass_{wimp_mass:d}_{inference_object_args[interaction]:s}_livetime_{livetime:.2f}_signal_{signal_expectation:.2f}.hdf5\n",
      "filename batch_results/toymc_wimppower_wimpmass_{wimp_mass:d}_{inference_object_args[interaction]:s}_livetime_{livetime:.2f}_signal_{signal_expectation:.2f}.hdf5\n",
      "filename batch_results/toymc_wimppower_wimpmass_{wimp_mass:d}_{inference_object_args[interaction]:s}_livetime_{livetime:.2f}_signal_{signal_expectation:.2f}.hdf5\n",
      "filename batch_results/toymc_wimppower_wimpmass_{wimp_mass:d}_{inference_object_args[interaction]:s}_livetime_{livetime:.2f}_signal_{signal_expectation:.2f}.hdf5\n",
      "filename batch_results/toymc_wimppower_wimpmass_{wimp_mass:d}_{inference_object_args[interaction]:s}_livetime_{livetime:.2f}_signal_{signal_expectation:.2f}.hdf5\n",
      "filename batch_results/toymc_wimppower_wimpmass_{wimp_mass:d}_{inference_object_args[interaction]:s}_livetime_{livetime:.2f}_signal_{signal_expectation:.2f}.hdf5\n",
      "filename batch_results/toymc_wimppower_wimpmass_{wimp_mass:d}_{inference_object_args[interaction]:s}_livetime_{livetime:.2f}_signal_{signal_expectation:.2f}.hdf5\n",
      "filename batch_results/toymc_wimppower_wimpmass_{wimp_mass:d}_{inference_object_args[interaction]:s}_livetime_{livetime:.2f}_signal_{signal_expectation:.2f}.hdf5\n",
      "filename batch_results/toymc_wimppower_wimpmass_{wimp_mass:d}_{inference_object_args[interaction]:s}_livetime_{livetime:.2f}_signal_{signal_expectation:.2f}.hdf5\n",
      "filename batch_results/toymc_wimppower_wimpmass_{wimp_mass:d}_{inference_object_args[interaction]:s}_livetime_{livetime:.2f}_signal_{signal_expectation:.2f}.hdf5\n",
      "filename batch_results/toymc_wimppower_wimpmass_{wimp_mass:d}_{inference_object_args[interaction]:s}_livetime_{livetime:.2f}_signal_{signal_expectation:.2f}.hdf5\n",
      "filename batch_results/toymc_wimppower_wimpmass_{wimp_mass:d}_{inference_object_args[interaction]:s}_livetime_{livetime:.2f}_signal_{signal_expectation:.2f}.hdf5\n",
      "filename batch_results/toymc_wimppower_wimpmass_{wimp_mass:d}_{inference_object_args[interaction]:s}_livetime_{livetime:.2f}_signal_{signal_expectation:.2f}.hdf5\n",
      "filename batch_results/toymc_wimppower_wimpmass_{wimp_mass:d}_{inference_object_args[interaction]:s}_livetime_{livetime:.2f}_signal_{signal_expectation:.2f}.hdf5\n",
      "filename batch_results/toymc_wimppower_wimpmass_{wimp_mass:d}_{inference_object_args[interaction]:s}_livetime_{livetime:.2f}_signal_{signal_expectation:.2f}.hdf5\n",
      "filename batch_results/toymc_wimppower_wimpmass_{wimp_mass:d}_{inference_object_args[interaction]:s}_livetime_{livetime:.2f}_signal_{signal_expectation:.2f}.hdf5\n",
      "filename batch_results/toymc_wimppower_wimpmass_{wimp_mass:d}_{inference_object_args[interaction]:s}_livetime_{livetime:.2f}_signal_{signal_expectation:.2f}.hdf5\n",
      "filename batch_results/toymc_wimppower_wimpmass_{wimp_mass:d}_{inference_object_args[interaction]:s}_livetime_{livetime:.2f}_signal_{signal_expectation:.2f}.hdf5\n",
      "filename batch_results/toymc_wimppower_wimpmass_{wimp_mass:d}_{inference_object_args[interaction]:s}_livetime_{livetime:.2f}_signal_{signal_expectation:.2f}.hdf5\n",
      "filename batch_results/toymc_wimppower_wimpmass_{wimp_mass:d}_{inference_object_args[interaction]:s}_livetime_{livetime:.2f}_signal_{signal_expectation:.2f}.hdf5\n",
      "filename batch_results/toymc_wimppower_wimpmass_{wimp_mass:d}_{inference_object_args[interaction]:s}_livetime_{livetime:.2f}_signal_{signal_expectation:.2f}.hdf5\n",
      "filename batch_results/toymc_wimppower_wimpmass_{wimp_mass:d}_{inference_object_args[interaction]:s}_livetime_{livetime:.2f}_signal_{signal_expectation:.2f}.hdf5\n",
      "filename batch_results/toymc_wimppower_wimpmass_{wimp_mass:d}_{inference_object_args[interaction]:s}_livetime_{livetime:.2f}_signal_{signal_expectation:.2f}.hdf5\n",
      "filename batch_results/toymc_wimppower_wimpmass_{wimp_mass:d}_{inference_object_args[interaction]:s}_livetime_{livetime:.2f}_signal_{signal_expectation:.2f}.hdf5\n",
      "filename batch_results/toymc_wimppower_wimpmass_{wimp_mass:d}_{inference_object_args[interaction]:s}_livetime_{livetime:.2f}_signal_{signal_expectation:.2f}.hdf5\n",
      "filename batch_results/toymc_wimppower_wimpmass_{wimp_mass:d}_{inference_object_args[interaction]:s}_livetime_{livetime:.2f}_signal_{signal_expectation:.2f}.hdf5\n",
      "filename batch_results/toymc_wimppower_wimpmass_{wimp_mass:d}_{inference_object_args[interaction]:s}_livetime_{livetime:.2f}_signal_{signal_expectation:.2f}.hdf5\n",
      "filename batch_results/toymc_wimppower_wimpmass_{wimp_mass:d}_{inference_object_args[interaction]:s}_livetime_{livetime:.2f}_signal_{signal_expectation:.2f}.hdf5\n",
      "filename batch_results/toymc_wimppower_wimpmass_{wimp_mass:d}_{inference_object_args[interaction]:s}_livetime_{livetime:.2f}_signal_{signal_expectation:.2f}.hdf5\n",
      "filename batch_results/toymc_wimppower_wimpmass_{wimp_mass:d}_{inference_object_args[interaction]:s}_livetime_{livetime:.2f}_signal_{signal_expectation:.2f}.hdf5\n",
      "filename batch_results/toymc_wimppower_wimpmass_{wimp_mass:d}_{inference_object_args[interaction]:s}_livetime_{livetime:.2f}_signal_{signal_expectation:.2f}.hdf5\n",
      "filename batch_results/toymc_wimppower_wimpmass_{wimp_mass:d}_{inference_object_args[interaction]:s}_livetime_{livetime:.2f}_signal_{signal_expectation:.2f}.hdf5\n",
      "filename batch_results/toymc_wimppower_wimpmass_{wimp_mass:d}_{inference_object_args[interaction]:s}_livetime_{livetime:.2f}_signal_{signal_expectation:.2f}.hdf5\n",
      "filename batch_results/toymc_wimppower_wimpmass_{wimp_mass:d}_{inference_object_args[interaction]:s}_livetime_{livetime:.2f}_signal_{signal_expectation:.2f}.hdf5\n",
      "filename batch_results/toymc_wimppower_wimpmass_{wimp_mass:d}_{inference_object_args[interaction]:s}_livetime_{livetime:.2f}_signal_{signal_expectation:.2f}.hdf5\n",
      "filename batch_results/toymc_wimppower_wimpmass_{wimp_mass:d}_{inference_object_args[interaction]:s}_livetime_{livetime:.2f}_signal_{signal_expectation:.2f}.hdf5\n",
      "filename batch_results/toymc_wimppower_wimpmass_{wimp_mass:d}_{inference_object_args[interaction]:s}_livetime_{livetime:.2f}_signal_{signal_expectation:.2f}.hdf5\n",
      "filename batch_results/toymc_wimppower_wimpmass_{wimp_mass:d}_{inference_object_args[interaction]:s}_livetime_{livetime:.2f}_signal_{signal_expectation:.2f}.hdf5\n",
      "filename batch_results/toymc_wimppower_wimpmass_{wimp_mass:d}_{inference_object_args[interaction]:s}_livetime_{livetime:.2f}_signal_{signal_expectation:.2f}.hdf5\n",
      "filename batch_results/toymc_wimppower_wimpmass_{wimp_mass:d}_{inference_object_args[interaction]:s}_livetime_{livetime:.2f}_signal_{signal_expectation:.2f}.hdf5\n",
      "filename batch_results/toymc_wimppower_wimpmass_{wimp_mass:d}_{inference_object_args[interaction]:s}_livetime_{livetime:.2f}_signal_{signal_expectation:.2f}.hdf5\n",
      "filename batch_results/toymc_wimppower_wimpmass_{wimp_mass:d}_{inference_object_args[interaction]:s}_livetime_{livetime:.2f}_signal_{signal_expectation:.2f}.hdf5\n",
      "filename batch_results/toymc_wimppower_wimpmass_{wimp_mass:d}_{inference_object_args[interaction]:s}_livetime_{livetime:.2f}_signal_{signal_expectation:.2f}.hdf5\n",
      "filename batch_results/toymc_wimppower_wimpmass_{wimp_mass:d}_{inference_object_args[interaction]:s}_livetime_{livetime:.2f}_signal_{signal_expectation:.2f}.hdf5\n",
      "filename batch_results/toymc_wimppower_wimpmass_{wimp_mass:d}_{inference_object_args[interaction]:s}_livetime_{livetime:.2f}_signal_{signal_expectation:.2f}.hdf5\n",
      "filename batch_results/toymc_wimppower_wimpmass_{wimp_mass:d}_{inference_object_args[interaction]:s}_livetime_{livetime:.2f}_signal_{signal_expectation:.2f}.hdf5\n",
      "filename batch_results/toymc_wimppower_wimpmass_{wimp_mass:d}_{inference_object_args[interaction]:s}_livetime_{livetime:.2f}_signal_{signal_expectation:.2f}.hdf5\n",
      "filename batch_results/toymc_wimppower_wimpmass_{wimp_mass:d}_{inference_object_args[interaction]:s}_livetime_{livetime:.2f}_signal_{signal_expectation:.2f}.hdf5\n",
      "filename batch_results/toymc_wimppower_wimpmass_{wimp_mass:d}_{inference_object_args[interaction]:s}_livetime_{livetime:.2f}_signal_{signal_expectation:.2f}.hdf5\n",
      "filename batch_results/toymc_wimppower_wimpmass_{wimp_mass:d}_{inference_object_args[interaction]:s}_livetime_{livetime:.2f}_signal_{signal_expectation:.2f}.hdf5\n",
      "filename batch_results/toymc_wimppower_wimpmass_{wimp_mass:d}_{inference_object_args[interaction]:s}_livetime_{livetime:.2f}_signal_{signal_expectation:.2f}.hdf5\n",
      "filename batch_results/toymc_wimppower_wimpmass_{wimp_mass:d}_{inference_object_args[interaction]:s}_livetime_{livetime:.2f}_signal_{signal_expectation:.2f}.hdf5\n",
      "filename batch_results/toymc_wimppower_wimpmass_{wimp_mass:d}_{inference_object_args[interaction]:s}_livetime_{livetime:.2f}_signal_{signal_expectation:.2f}.hdf5\n",
      "filename batch_results/toymc_wimppower_wimpmass_{wimp_mass:d}_{inference_object_args[interaction]:s}_livetime_{livetime:.2f}_signal_{signal_expectation:.2f}.hdf5\n",
      "filename batch_results/toymc_wimppower_wimpmass_{wimp_mass:d}_{inference_object_args[interaction]:s}_livetime_{livetime:.2f}_signal_{signal_expectation:.2f}.hdf5\n",
      "filename batch_results/toymc_wimppower_wimpmass_{wimp_mass:d}_{inference_object_args[interaction]:s}_livetime_{livetime:.2f}_signal_{signal_expectation:.2f}.hdf5\n",
      "filename batch_results/toymc_wimppower_wimpmass_{wimp_mass:d}_{inference_object_args[interaction]:s}_livetime_{livetime:.2f}_signal_{signal_expectation:.2f}.hdf5\n",
      "filename batch_results/toymc_wimppower_wimpmass_{wimp_mass:d}_{inference_object_args[interaction]:s}_livetime_{livetime:.2f}_signal_{signal_expectation:.2f}.hdf5\n",
      "filename batch_results/toymc_wimppower_wimpmass_{wimp_mass:d}_{inference_object_args[interaction]:s}_livetime_{livetime:.2f}_signal_{signal_expectation:.2f}.hdf5\n",
      "filename batch_results/toymc_wimppower_wimpmass_{wimp_mass:d}_{inference_object_args[interaction]:s}_livetime_{livetime:.2f}_signal_{signal_expectation:.2f}.hdf5\n",
      "filename batch_results/toymc_wimppower_wimpmass_{wimp_mass:d}_{inference_object_args[interaction]:s}_livetime_{livetime:.2f}_signal_{signal_expectation:.2f}.hdf5\n",
      "filename batch_results/toymc_wimppower_wimpmass_{wimp_mass:d}_{inference_object_args[interaction]:s}_livetime_{livetime:.2f}_signal_{signal_expectation:.2f}.hdf5\n",
      "filename batch_results/toymc_wimppower_wimpmass_{wimp_mass:d}_{inference_object_args[interaction]:s}_livetime_{livetime:.2f}_signal_{signal_expectation:.2f}.hdf5\n",
      "filename batch_results/toymc_wimppower_wimpmass_{wimp_mass:d}_{inference_object_args[interaction]:s}_livetime_{livetime:.2f}_signal_{signal_expectation:.2f}.hdf5\n",
      "filename batch_results/toymc_wimppower_wimpmass_{wimp_mass:d}_{inference_object_args[interaction]:s}_livetime_{livetime:.2f}_signal_{signal_expectation:.2f}.hdf5\n",
      "filename batch_results/toymc_wimppower_wimpmass_{wimp_mass:d}_{inference_object_args[interaction]:s}_livetime_{livetime:.2f}_signal_{signal_expectation:.2f}.hdf5\n",
      "filename batch_results/toymc_wimppower_wimpmass_{wimp_mass:d}_{inference_object_args[interaction]:s}_livetime_{livetime:.2f}_signal_{signal_expectation:.2f}.hdf5\n",
      "filename batch_results/toymc_wimppower_wimpmass_{wimp_mass:d}_{inference_object_args[interaction]:s}_livetime_{livetime:.2f}_signal_{signal_expectation:.2f}.hdf5\n",
      "filename batch_results/toymc_wimppower_wimpmass_{wimp_mass:d}_{inference_object_args[interaction]:s}_livetime_{livetime:.2f}_signal_{signal_expectation:.2f}.hdf5\n",
      "filename batch_results/toymc_wimppower_wimpmass_{wimp_mass:d}_{inference_object_args[interaction]:s}_livetime_{livetime:.2f}_signal_{signal_expectation:.2f}.hdf5\n",
      "filename batch_results/toymc_wimppower_wimpmass_{wimp_mass:d}_{inference_object_args[interaction]:s}_livetime_{livetime:.2f}_signal_{signal_expectation:.2f}.hdf5\n",
      "filename batch_results/toymc_wimppower_wimpmass_{wimp_mass:d}_{inference_object_args[interaction]:s}_livetime_{livetime:.2f}_signal_{signal_expectation:.2f}.hdf5\n",
      "filename batch_results/toymc_wimppower_wimpmass_{wimp_mass:d}_{inference_object_args[interaction]:s}_livetime_{livetime:.2f}_signal_{signal_expectation:.2f}.hdf5\n",
      "filename batch_results/toymc_wimppower_wimpmass_{wimp_mass:d}_{inference_object_args[interaction]:s}_livetime_{livetime:.2f}_signal_{signal_expectation:.2f}.hdf5\n",
      "filename batch_results/toymc_wimppower_wimpmass_{wimp_mass:d}_{inference_object_args[interaction]:s}_livetime_{livetime:.2f}_signal_{signal_expectation:.2f}.hdf5\n",
      "filename batch_results/toymc_wimppower_wimpmass_{wimp_mass:d}_{inference_object_args[interaction]:s}_livetime_{livetime:.2f}_signal_{signal_expectation:.2f}.hdf5\n",
      "filename batch_results/toymc_wimppower_wimpmass_{wimp_mass:d}_{inference_object_args[interaction]:s}_livetime_{livetime:.2f}_signal_{signal_expectation:.2f}.hdf5\n",
      "filename batch_results/toymc_wimppower_wimpmass_{wimp_mass:d}_{inference_object_args[interaction]:s}_livetime_{livetime:.2f}_signal_{signal_expectation:.2f}.hdf5\n",
      "filename batch_results/toymc_wimppower_wimpmass_{wimp_mass:d}_{inference_object_args[interaction]:s}_livetime_{livetime:.2f}_signal_{signal_expectation:.2f}.hdf5\n",
      "filename batch_results/toymc_wimppower_wimpmass_{wimp_mass:d}_{inference_object_args[interaction]:s}_livetime_{livetime:.2f}_signal_{signal_expectation:.2f}.hdf5\n",
      "filename batch_results/toymc_wimppower_wimpmass_{wimp_mass:d}_{inference_object_args[interaction]:s}_livetime_{livetime:.2f}_signal_{signal_expectation:.2f}.hdf5\n",
      "filename batch_results/toymc_wimppower_wimpmass_{wimp_mass:d}_{inference_object_args[interaction]:s}_livetime_{livetime:.2f}_signal_{signal_expectation:.2f}.hdf5\n",
      "filename batch_results/toymc_wimppower_wimpmass_{wimp_mass:d}_{inference_object_args[interaction]:s}_livetime_{livetime:.2f}_signal_{signal_expectation:.2f}.hdf5\n",
      "filename batch_results/toymc_wimppower_wimpmass_{wimp_mass:d}_{inference_object_args[interaction]:s}_livetime_{livetime:.2f}_signal_{signal_expectation:.2f}.hdf5\n",
      "filename batch_results/toymc_wimppower_wimpmass_{wimp_mass:d}_{inference_object_args[interaction]:s}_livetime_{livetime:.2f}_signal_{signal_expectation:.2f}.hdf5\n",
      "filename batch_results/toymc_wimppower_wimpmass_{wimp_mass:d}_{inference_object_args[interaction]:s}_livetime_{livetime:.2f}_signal_{signal_expectation:.2f}.hdf5\n",
      "filename batch_results/toymc_wimppower_wimpmass_{wimp_mass:d}_{inference_object_args[interaction]:s}_livetime_{livetime:.2f}_signal_{signal_expectation:.2f}.hdf5\n",
      "filename batch_results/toymc_wimppower_wimpmass_{wimp_mass:d}_{inference_object_args[interaction]:s}_livetime_{livetime:.2f}_signal_{signal_expectation:.2f}.hdf5\n",
      "filename batch_results/toymc_wimppower_wimpmass_{wimp_mass:d}_{inference_object_args[interaction]:s}_livetime_{livetime:.2f}_signal_{signal_expectation:.2f}.hdf5\n",
      "filename batch_results/toymc_wimppower_wimpmass_{wimp_mass:d}_{inference_object_args[interaction]:s}_livetime_{livetime:.2f}_signal_{signal_expectation:.2f}.hdf5\n",
      "filename batch_results/toymc_wimppower_wimpmass_{wimp_mass:d}_{inference_object_args[interaction]:s}_livetime_{livetime:.2f}_signal_{signal_expectation:.2f}.hdf5\n",
      "filename batch_results/toymc_wimppower_wimpmass_{wimp_mass:d}_{inference_object_args[interaction]:s}_livetime_{livetime:.2f}_signal_{signal_expectation:.2f}.hdf5\n",
      "filename batch_results/toymc_wimppower_wimpmass_{wimp_mass:d}_{inference_object_args[interaction]:s}_livetime_{livetime:.2f}_signal_{signal_expectation:.2f}.hdf5\n",
      "filename batch_results/toymc_wimppower_wimpmass_{wimp_mass:d}_{inference_object_args[interaction]:s}_livetime_{livetime:.2f}_signal_{signal_expectation:.2f}.hdf5\n",
      "filename batch_results/toymc_wimppower_wimpmass_{wimp_mass:d}_{inference_object_args[interaction]:s}_livetime_{livetime:.2f}_signal_{signal_expectation:.2f}.hdf5\n",
      "filename batch_results/toymc_wimppower_wimpmass_{wimp_mass:d}_{inference_object_args[interaction]:s}_livetime_{livetime:.2f}_signal_{signal_expectation:.2f}.hdf5\n",
      "filename batch_results/toymc_wimppower_wimpmass_{wimp_mass:d}_{inference_object_args[interaction]:s}_livetime_{livetime:.2f}_signal_{signal_expectation:.2f}.hdf5\n",
      "filename batch_results/toymc_wimppower_wimpmass_{wimp_mass:d}_{inference_object_args[interaction]:s}_livetime_{livetime:.2f}_signal_{signal_expectation:.2f}.hdf5\n",
      "filename batch_results/toymc_wimppower_wimpmass_{wimp_mass:d}_{inference_object_args[interaction]:s}_livetime_{livetime:.2f}_signal_{signal_expectation:.2f}.hdf5\n",
      "filename batch_results/toymc_wimppower_wimpmass_{wimp_mass:d}_{inference_object_args[interaction]:s}_livetime_{livetime:.2f}_signal_{signal_expectation:.2f}.hdf5\n",
      "filename batch_results/toymc_wimppower_wimpmass_{wimp_mass:d}_{inference_object_args[interaction]:s}_livetime_{livetime:.2f}_signal_{signal_expectation:.2f}.hdf5\n",
      "filename batch_results/toymc_wimppower_wimpmass_{wimp_mass:d}_{inference_object_args[interaction]:s}_livetime_{livetime:.2f}_signal_{signal_expectation:.2f}.hdf5\n",
      "filename batch_results/toymc_wimppower_wimpmass_{wimp_mass:d}_{inference_object_args[interaction]:s}_livetime_{livetime:.2f}_signal_{signal_expectation:.2f}.hdf5\n",
      "filename batch_results/toymc_wimppower_wimpmass_{wimp_mass:d}_{inference_object_args[interaction]:s}_livetime_{livetime:.2f}_signal_{signal_expectation:.2f}.hdf5\n",
      "filename batch_results/toymc_wimppower_wimpmass_{wimp_mass:d}_{inference_object_args[interaction]:s}_livetime_{livetime:.2f}_signal_{signal_expectation:.2f}.hdf5\n",
      "filename batch_results/toymc_wimppower_wimpmass_{wimp_mass:d}_{inference_object_args[interaction]:s}_livetime_{livetime:.2f}_signal_{signal_expectation:.2f}.hdf5\n",
      "filename batch_results/toymc_wimppower_wimpmass_{wimp_mass:d}_{inference_object_args[interaction]:s}_livetime_{livetime:.2f}_signal_{signal_expectation:.2f}.hdf5\n",
      "filename batch_results/toymc_wimppower_wimpmass_{wimp_mass:d}_{inference_object_args[interaction]:s}_livetime_{livetime:.2f}_signal_{signal_expectation:.2f}.hdf5\n",
      "filename batch_results/toymc_wimppower_wimpmass_{wimp_mass:d}_{inference_object_args[interaction]:s}_livetime_{livetime:.2f}_signal_{signal_expectation:.2f}.hdf5\n",
      "filename batch_results/toymc_wimppower_wimpmass_{wimp_mass:d}_{inference_object_args[interaction]:s}_livetime_{livetime:.2f}_signal_{signal_expectation:.2f}.hdf5\n",
      "filename batch_results/toymc_wimppower_wimpmass_{wimp_mass:d}_{inference_object_args[interaction]:s}_livetime_{livetime:.2f}_signal_{signal_expectation:.2f}.hdf5\n",
      "filename batch_results/toymc_wimppower_wimpmass_{wimp_mass:d}_{inference_object_args[interaction]:s}_livetime_{livetime:.2f}_signal_{signal_expectation:.2f}.hdf5\n",
      "filename batch_results/toymc_wimppower_wimpmass_{wimp_mass:d}_{inference_object_args[interaction]:s}_livetime_{livetime:.2f}_signal_{signal_expectation:.2f}.hdf5\n",
      "filename batch_results/toymc_wimppower_wimpmass_{wimp_mass:d}_{inference_object_args[interaction]:s}_livetime_{livetime:.2f}_signal_{signal_expectation:.2f}.hdf5\n",
      "filename batch_results/toymc_wimppower_wimpmass_{wimp_mass:d}_{inference_object_args[interaction]:s}_livetime_{livetime:.2f}_signal_{signal_expectation:.2f}.hdf5\n",
      "filename batch_results/toymc_wimppower_wimpmass_{wimp_mass:d}_{inference_object_args[interaction]:s}_livetime_{livetime:.2f}_signal_{signal_expectation:.2f}.hdf5\n",
      "filename batch_results/toymc_wimppower_wimpmass_{wimp_mass:d}_{inference_object_args[interaction]:s}_livetime_{livetime:.2f}_signal_{signal_expectation:.2f}.hdf5\n",
      "filename batch_results/toymc_wimppower_wimpmass_{wimp_mass:d}_{inference_object_args[interaction]:s}_livetime_{livetime:.2f}_signal_{signal_expectation:.2f}.hdf5\n",
      "filename batch_results/toymc_wimppower_wimpmass_{wimp_mass:d}_{inference_object_args[interaction]:s}_livetime_{livetime:.2f}_signal_{signal_expectation:.2f}.hdf5\n",
      "filename batch_results/toymc_wimppower_wimpmass_{wimp_mass:d}_{inference_object_args[interaction]:s}_livetime_{livetime:.2f}_signal_{signal_expectation:.2f}.hdf5\n",
      "filename batch_results/toymc_wimppower_wimpmass_{wimp_mass:d}_{inference_object_args[interaction]:s}_livetime_{livetime:.2f}_signal_{signal_expectation:.2f}.hdf5\n",
      "filename batch_results/toymc_wimppower_wimpmass_{wimp_mass:d}_{inference_object_args[interaction]:s}_livetime_{livetime:.2f}_signal_{signal_expectation:.2f}.hdf5\n",
      "filename batch_results/toymc_wimppower_wimpmass_{wimp_mass:d}_{inference_object_args[interaction]:s}_livetime_{livetime:.2f}_signal_{signal_expectation:.2f}.hdf5\n",
      "filename batch_results/toymc_wimppower_wimpmass_{wimp_mass:d}_{inference_object_args[interaction]:s}_livetime_{livetime:.2f}_signal_{signal_expectation:.2f}.hdf5\n",
      "filename batch_results/toymc_wimppower_wimpmass_{wimp_mass:d}_{inference_object_args[interaction]:s}_livetime_{livetime:.2f}_signal_{signal_expectation:.2f}.hdf5\n",
      "filename batch_results/toymc_wimppower_wimpmass_{wimp_mass:d}_{inference_object_args[interaction]:s}_livetime_{livetime:.2f}_signal_{signal_expectation:.2f}.hdf5\n",
      "filename batch_results/toymc_wimppower_wimpmass_{wimp_mass:d}_{inference_object_args[interaction]:s}_livetime_{livetime:.2f}_signal_{signal_expectation:.2f}.hdf5\n",
      "filename batch_results/toymc_wimppower_wimpmass_{wimp_mass:d}_{inference_object_args[interaction]:s}_livetime_{livetime:.2f}_signal_{signal_expectation:.2f}.hdf5\n",
      "filename batch_results/toymc_wimppower_wimpmass_{wimp_mass:d}_{inference_object_args[interaction]:s}_livetime_{livetime:.2f}_signal_{signal_expectation:.2f}.hdf5\n",
      "filename batch_results/toymc_wimppower_wimpmass_{wimp_mass:d}_{inference_object_args[interaction]:s}_livetime_{livetime:.2f}_signal_{signal_expectation:.2f}.hdf5\n",
      "filename batch_results/toymc_wimppower_wimpmass_{wimp_mass:d}_{inference_object_args[interaction]:s}_livetime_{livetime:.2f}_signal_{signal_expectation:.2f}.hdf5\n",
      "filename batch_results/toymc_wimppower_wimpmass_{wimp_mass:d}_{inference_object_args[interaction]:s}_livetime_{livetime:.2f}_signal_{signal_expectation:.2f}.hdf5\n",
      "filename batch_results/toymc_wimppower_wimpmass_{wimp_mass:d}_{inference_object_args[interaction]:s}_livetime_{livetime:.2f}_signal_{signal_expectation:.2f}.hdf5\n",
      "filename batch_results/toymc_wimppower_wimpmass_{wimp_mass:d}_{inference_object_args[interaction]:s}_livetime_{livetime:.2f}_signal_{signal_expectation:.2f}.hdf5\n",
      "filename batch_results/toymc_wimppower_wimpmass_{wimp_mass:d}_{inference_object_args[interaction]:s}_livetime_{livetime:.2f}_signal_{signal_expectation:.2f}.hdf5\n",
      "filename batch_results/toymc_wimppower_wimpmass_{wimp_mass:d}_{inference_object_args[interaction]:s}_livetime_{livetime:.2f}_signal_{signal_expectation:.2f}.hdf5\n",
      "filename batch_results/toymc_wimppower_wimpmass_{wimp_mass:d}_{inference_object_args[interaction]:s}_livetime_{livetime:.2f}_signal_{signal_expectation:.2f}.hdf5\n",
      "filename batch_results/toymc_wimppower_wimpmass_{wimp_mass:d}_{inference_object_args[interaction]:s}_livetime_{livetime:.2f}_signal_{signal_expectation:.2f}.hdf5\n",
      "filename batch_results/toymc_wimppower_wimpmass_{wimp_mass:d}_{inference_object_args[interaction]:s}_livetime_{livetime:.2f}_signal_{signal_expectation:.2f}.hdf5\n",
      "filename batch_results/toymc_wimppower_wimpmass_{wimp_mass:d}_{inference_object_args[interaction]:s}_livetime_{livetime:.2f}_signal_{signal_expectation:.2f}.hdf5\n",
      "filename batch_results/toymc_wimppower_wimpmass_{wimp_mass:d}_{inference_object_args[interaction]:s}_livetime_{livetime:.2f}_signal_{signal_expectation:.2f}.hdf5\n",
      "filename batch_results/toymc_wimppower_wimpmass_{wimp_mass:d}_{inference_object_args[interaction]:s}_livetime_{livetime:.2f}_signal_{signal_expectation:.2f}.hdf5\n",
      "filename batch_results/toymc_wimppower_wimpmass_{wimp_mass:d}_{inference_object_args[interaction]:s}_livetime_{livetime:.2f}_signal_{signal_expectation:.2f}.hdf5\n",
      "filename batch_results/toymc_wimppower_wimpmass_{wimp_mass:d}_{inference_object_args[interaction]:s}_livetime_{livetime:.2f}_signal_{signal_expectation:.2f}.hdf5\n",
      "filename batch_results/toymc_wimppower_wimpmass_{wimp_mass:d}_{inference_object_args[interaction]:s}_livetime_{livetime:.2f}_signal_{signal_expectation:.2f}.hdf5\n",
      "filename batch_results/toymc_wimppower_wimpmass_{wimp_mass:d}_{inference_object_args[interaction]:s}_livetime_{livetime:.2f}_signal_{signal_expectation:.2f}.hdf5\n",
      "filename batch_results/toymc_wimppower_wimpmass_{wimp_mass:d}_{inference_object_args[interaction]:s}_livetime_{livetime:.2f}_signal_{signal_expectation:.2f}.hdf5\n",
      "filename batch_results/toymc_wimppower_wimpmass_{wimp_mass:d}_{inference_object_args[interaction]:s}_livetime_{livetime:.2f}_signal_{signal_expectation:.2f}.hdf5\n",
      "filename batch_results/toymc_wimppower_wimpmass_{wimp_mass:d}_{inference_object_args[interaction]:s}_livetime_{livetime:.2f}_signal_{signal_expectation:.2f}.hdf5\n",
      "filename batch_results/toymc_wimppower_wimpmass_{wimp_mass:d}_{inference_object_args[interaction]:s}_livetime_{livetime:.2f}_signal_{signal_expectation:.2f}.hdf5\n",
      "filename batch_results/toymc_wimppower_wimpmass_{wimp_mass:d}_{inference_object_args[interaction]:s}_livetime_{livetime:.2f}_signal_{signal_expectation:.2f}.hdf5\n",
      "filename batch_results/toymc_wimppower_wimpmass_{wimp_mass:d}_{inference_object_args[interaction]:s}_livetime_{livetime:.2f}_signal_{signal_expectation:.2f}.hdf5\n",
      "filename batch_results/toymc_wimppower_wimpmass_{wimp_mass:d}_{inference_object_args[interaction]:s}_livetime_{livetime:.2f}_signal_{signal_expectation:.2f}.hdf5\n",
      "filename batch_results/toymc_wimppower_wimpmass_{wimp_mass:d}_{inference_object_args[interaction]:s}_livetime_{livetime:.2f}_signal_{signal_expectation:.2f}.hdf5\n",
      "filename batch_results/toymc_wimppower_wimpmass_{wimp_mass:d}_{inference_object_args[interaction]:s}_livetime_{livetime:.2f}_signal_{signal_expectation:.2f}.hdf5\n",
      "filename batch_results/toymc_wimppower_wimpmass_{wimp_mass:d}_{inference_object_args[interaction]:s}_livetime_{livetime:.2f}_signal_{signal_expectation:.2f}.hdf5\n",
      "filename batch_results/toymc_wimppower_wimpmass_{wimp_mass:d}_{inference_object_args[interaction]:s}_livetime_{livetime:.2f}_signal_{signal_expectation:.2f}.hdf5\n",
      "filename batch_results/toymc_wimppower_wimpmass_{wimp_mass:d}_{inference_object_args[interaction]:s}_livetime_{livetime:.2f}_signal_{signal_expectation:.2f}.hdf5\n",
      "filename batch_results/toymc_wimppower_wimpmass_{wimp_mass:d}_{inference_object_args[interaction]:s}_livetime_{livetime:.2f}_signal_{signal_expectation:.2f}.hdf5\n",
      "filename batch_results/toymc_wimppower_wimpmass_{wimp_mass:d}_{inference_object_args[interaction]:s}_livetime_{livetime:.2f}_signal_{signal_expectation:.2f}.hdf5\n",
      "filename batch_results/toymc_wimppower_wimpmass_{wimp_mass:d}_{inference_object_args[interaction]:s}_livetime_{livetime:.2f}_signal_{signal_expectation:.2f}.hdf5\n",
      "filename batch_results/toymc_wimppower_wimpmass_{wimp_mass:d}_{inference_object_args[interaction]:s}_livetime_{livetime:.2f}_signal_{signal_expectation:.2f}.hdf5\n",
      "filename batch_results/toymc_wimppower_wimpmass_{wimp_mass:d}_{inference_object_args[interaction]:s}_livetime_{livetime:.2f}_signal_{signal_expectation:.2f}.hdf5\n",
      "filename batch_results/toymc_wimppower_wimpmass_{wimp_mass:d}_{inference_object_args[interaction]:s}_livetime_{livetime:.2f}_signal_{signal_expectation:.2f}.hdf5\n",
      "filename batch_results/toymc_wimppower_wimpmass_{wimp_mass:d}_{inference_object_args[interaction]:s}_livetime_{livetime:.2f}_signal_{signal_expectation:.2f}.hdf5\n",
      "filename batch_results/toymc_wimppower_wimpmass_{wimp_mass:d}_{inference_object_args[interaction]:s}_livetime_{livetime:.2f}_signal_{signal_expectation:.2f}.hdf5\n",
      "filename batch_results/toymc_wimppower_wimpmass_{wimp_mass:d}_{inference_object_args[interaction]:s}_livetime_{livetime:.2f}_signal_{signal_expectation:.2f}.hdf5\n",
      "filename batch_results/toymc_wimppower_wimpmass_{wimp_mass:d}_{inference_object_args[interaction]:s}_livetime_{livetime:.2f}_signal_{signal_expectation:.2f}.hdf5\n",
      "filename batch_results/toymc_wimppower_wimpmass_{wimp_mass:d}_{inference_object_args[interaction]:s}_livetime_{livetime:.2f}_signal_{signal_expectation:.2f}.hdf5\n",
      "filename batch_results/toymc_wimppower_wimpmass_{wimp_mass:d}_{inference_object_args[interaction]:s}_livetime_{livetime:.2f}_signal_{signal_expectation:.2f}.hdf5\n",
      "filename batch_results/toymc_wimppower_wimpmass_{wimp_mass:d}_{inference_object_args[interaction]:s}_livetime_{livetime:.2f}_signal_{signal_expectation:.2f}.hdf5\n",
      "filename batch_results/toymc_wimppower_wimpmass_{wimp_mass:d}_{inference_object_args[interaction]:s}_livetime_{livetime:.2f}_signal_{signal_expectation:.2f}.hdf5\n",
      "filename batch_results/toymc_wimppower_wimpmass_{wimp_mass:d}_{inference_object_args[interaction]:s}_livetime_{livetime:.2f}_signal_{signal_expectation:.2f}.hdf5\n",
      "filename batch_results/toymc_wimppower_wimpmass_{wimp_mass:d}_{inference_object_args[interaction]:s}_livetime_{livetime:.2f}_signal_{signal_expectation:.2f}.hdf5\n",
      "filename batch_results/toymc_wimppower_wimpmass_{wimp_mass:d}_{inference_object_args[interaction]:s}_livetime_{livetime:.2f}_signal_{signal_expectation:.2f}.hdf5\n",
      "filename batch_results/toymc_wimppower_wimpmass_{wimp_mass:d}_{inference_object_args[interaction]:s}_livetime_{livetime:.2f}_signal_{signal_expectation:.2f}.hdf5\n",
      "filename batch_results/toymc_wimppower_wimpmass_{wimp_mass:d}_{inference_object_args[interaction]:s}_livetime_{livetime:.2f}_signal_{signal_expectation:.2f}.hdf5\n",
      "filename batch_results/toymc_wimppower_wimpmass_{wimp_mass:d}_{inference_object_args[interaction]:s}_livetime_{livetime:.2f}_signal_{signal_expectation:.2f}.hdf5\n",
      "filename batch_results/toymc_wimppower_wimpmass_{wimp_mass:d}_{inference_object_args[interaction]:s}_livetime_{livetime:.2f}_signal_{signal_expectation:.2f}.hdf5\n",
      "filename batch_results/toymc_wimppower_wimpmass_{wimp_mass:d}_{inference_object_args[interaction]:s}_livetime_{livetime:.2f}_signal_{signal_expectation:.2f}.hdf5\n",
      "filename batch_results/toymc_wimppower_wimpmass_{wimp_mass:d}_{inference_object_args[interaction]:s}_livetime_{livetime:.2f}_signal_{signal_expectation:.2f}.hdf5\n",
      "filename batch_results/toymc_wimppower_wimpmass_{wimp_mass:d}_{inference_object_args[interaction]:s}_livetime_{livetime:.2f}_signal_{signal_expectation:.2f}.hdf5\n",
      "filename batch_results/toymc_wimppower_wimpmass_{wimp_mass:d}_{inference_object_args[interaction]:s}_livetime_{livetime:.2f}_signal_{signal_expectation:.2f}.hdf5\n",
      "filename batch_results/toymc_wimppower_wimpmass_{wimp_mass:d}_{inference_object_args[interaction]:s}_livetime_{livetime:.2f}_signal_{signal_expectation:.2f}.hdf5\n",
      "filename batch_results/toymc_wimppower_wimpmass_{wimp_mass:d}_{inference_object_args[interaction]:s}_livetime_{livetime:.2f}_signal_{signal_expectation:.2f}.hdf5\n",
      "filename batch_results/toymc_wimppower_wimpmass_{wimp_mass:d}_{inference_object_args[interaction]:s}_livetime_{livetime:.2f}_signal_{signal_expectation:.2f}.hdf5\n",
      "filename batch_results/toymc_wimppower_wimpmass_{wimp_mass:d}_{inference_object_args[interaction]:s}_livetime_{livetime:.2f}_signal_{signal_expectation:.2f}.hdf5\n",
      "filename batch_results/toymc_wimppower_wimpmass_{wimp_mass:d}_{inference_object_args[interaction]:s}_livetime_{livetime:.2f}_signal_{signal_expectation:.2f}.hdf5\n",
      "filename batch_results/toymc_wimppower_wimpmass_{wimp_mass:d}_{inference_object_args[interaction]:s}_livetime_{livetime:.2f}_signal_{signal_expectation:.2f}.hdf5\n",
      "filename batch_results/toymc_wimppower_wimpmass_{wimp_mass:d}_{inference_object_args[interaction]:s}_livetime_{livetime:.2f}_signal_{signal_expectation:.2f}.hdf5\n",
      "filename batch_results/toymc_wimppower_wimpmass_{wimp_mass:d}_{inference_object_args[interaction]:s}_livetime_{livetime:.2f}_signal_{signal_expectation:.2f}.hdf5\n",
      "filename batch_results/toymc_wimppower_wimpmass_{wimp_mass:d}_{inference_object_args[interaction]:s}_livetime_{livetime:.2f}_signal_{signal_expectation:.2f}.hdf5\n",
      "filename batch_results/toymc_wimppower_wimpmass_{wimp_mass:d}_{inference_object_args[interaction]:s}_livetime_{livetime:.2f}_signal_{signal_expectation:.2f}.hdf5\n",
      "filename batch_results/toymc_wimppower_wimpmass_{wimp_mass:d}_{inference_object_args[interaction]:s}_livetime_{livetime:.2f}_signal_{signal_expectation:.2f}.hdf5\n",
      "filename batch_results/toymc_wimppower_wimpmass_{wimp_mass:d}_{inference_object_args[interaction]:s}_livetime_{livetime:.2f}_signal_{signal_expectation:.2f}.hdf5\n",
      "filename batch_results/toymc_wimppower_wimpmass_{wimp_mass:d}_{inference_object_args[interaction]:s}_livetime_{livetime:.2f}_signal_{signal_expectation:.2f}.hdf5\n",
      "filename batch_results/toymc_wimppower_wimpmass_{wimp_mass:d}_{inference_object_args[interaction]:s}_livetime_{livetime:.2f}_signal_{signal_expectation:.2f}.hdf5\n",
      "filename batch_results/toymc_wimppower_wimpmass_{wimp_mass:d}_{inference_object_args[interaction]:s}_livetime_{livetime:.2f}_signal_{signal_expectation:.2f}.hdf5\n",
      "filename batch_results/toymc_wimppower_wimpmass_{wimp_mass:d}_{inference_object_args[interaction]:s}_livetime_{livetime:.2f}_signal_{signal_expectation:.2f}.hdf5\n",
      "filename batch_results/toymc_wimppower_wimpmass_{wimp_mass:d}_{inference_object_args[interaction]:s}_livetime_{livetime:.2f}_signal_{signal_expectation:.2f}.hdf5\n",
      "filename batch_results/toymc_wimppower_wimpmass_{wimp_mass:d}_{inference_object_args[interaction]:s}_livetime_{livetime:.2f}_signal_{signal_expectation:.2f}.hdf5\n",
      "filename batch_results/toymc_wimppower_wimpmass_{wimp_mass:d}_{inference_object_args[interaction]:s}_livetime_{livetime:.2f}_signal_{signal_expectation:.2f}.hdf5\n",
      "filename batch_results/toymc_wimppower_wimpmass_{wimp_mass:d}_{inference_object_args[interaction]:s}_livetime_{livetime:.2f}_signal_{signal_expectation:.2f}.hdf5\n",
      "filename batch_results/toymc_wimppower_wimpmass_{wimp_mass:d}_{inference_object_args[interaction]:s}_livetime_{livetime:.2f}_signal_{signal_expectation:.2f}.hdf5\n",
      "filename batch_results/toymc_wimppower_wimpmass_{wimp_mass:d}_{inference_object_args[interaction]:s}_livetime_{livetime:.2f}_signal_{signal_expectation:.2f}.hdf5\n",
      "filename batch_results/toymc_wimppower_wimpmass_{wimp_mass:d}_{inference_object_args[interaction]:s}_livetime_{livetime:.2f}_signal_{signal_expectation:.2f}.hdf5\n",
      "filename batch_results/toymc_wimppower_wimpmass_{wimp_mass:d}_{inference_object_args[interaction]:s}_livetime_{livetime:.2f}_signal_{signal_expectation:.2f}.hdf5\n",
      "filename batch_results/toymc_wimppower_wimpmass_{wimp_mass:d}_{inference_object_args[interaction]:s}_livetime_{livetime:.2f}_signal_{signal_expectation:.2f}.hdf5\n",
      "filename batch_results/toymc_wimppower_wimpmass_{wimp_mass:d}_{inference_object_args[interaction]:s}_livetime_{livetime:.2f}_signal_{signal_expectation:.2f}.hdf5\n",
      "filename batch_results/toymc_wimppower_wimpmass_{wimp_mass:d}_{inference_object_args[interaction]:s}_livetime_{livetime:.2f}_signal_{signal_expectation:.2f}.hdf5\n",
      "filename batch_results/toymc_wimppower_wimpmass_{wimp_mass:d}_{inference_object_args[interaction]:s}_livetime_{livetime:.2f}_signal_{signal_expectation:.2f}.hdf5\n",
      "filename batch_results/toymc_wimppower_wimpmass_{wimp_mass:d}_{inference_object_args[interaction]:s}_livetime_{livetime:.2f}_signal_{signal_expectation:.2f}.hdf5\n",
      "filename batch_results/toymc_wimppower_wimpmass_{wimp_mass:d}_{inference_object_args[interaction]:s}_livetime_{livetime:.2f}_signal_{signal_expectation:.2f}.hdf5\n",
      "filename batch_results/toymc_wimppower_wimpmass_{wimp_mass:d}_{inference_object_args[interaction]:s}_livetime_{livetime:.2f}_signal_{signal_expectation:.2f}.hdf5\n",
      "filename batch_results/toymc_wimppower_wimpmass_{wimp_mass:d}_{inference_object_args[interaction]:s}_livetime_{livetime:.2f}_signal_{signal_expectation:.2f}.hdf5\n",
      "filename batch_results/toymc_wimppower_wimpmass_{wimp_mass:d}_{inference_object_args[interaction]:s}_livetime_{livetime:.2f}_signal_{signal_expectation:.2f}.hdf5\n",
      "filename batch_results/toymc_wimppower_wimpmass_{wimp_mass:d}_{inference_object_args[interaction]:s}_livetime_{livetime:.2f}_signal_{signal_expectation:.2f}.hdf5\n",
      "filename batch_results/toymc_wimppower_wimpmass_{wimp_mass:d}_{inference_object_args[interaction]:s}_livetime_{livetime:.2f}_signal_{signal_expectation:.2f}.hdf5\n",
      "filename batch_results/toymc_wimppower_wimpmass_{wimp_mass:d}_{inference_object_args[interaction]:s}_livetime_{livetime:.2f}_signal_{signal_expectation:.2f}.hdf5\n",
      "filename batch_results/toymc_wimppower_wimpmass_{wimp_mass:d}_{inference_object_args[interaction]:s}_livetime_{livetime:.2f}_signal_{signal_expectation:.2f}.hdf5\n",
      "filename batch_results/toymc_wimppower_wimpmass_{wimp_mass:d}_{inference_object_args[interaction]:s}_livetime_{livetime:.2f}_signal_{signal_expectation:.2f}.hdf5\n",
      "filename batch_results/toymc_wimppower_wimpmass_{wimp_mass:d}_{inference_object_args[interaction]:s}_livetime_{livetime:.2f}_signal_{signal_expectation:.2f}.hdf5\n",
      "filename batch_results/toymc_wimppower_wimpmass_{wimp_mass:d}_{inference_object_args[interaction]:s}_livetime_{livetime:.2f}_signal_{signal_expectation:.2f}.hdf5\n",
      "filename batch_results/toymc_wimppower_wimpmass_{wimp_mass:d}_{inference_object_args[interaction]:s}_livetime_{livetime:.2f}_signal_{signal_expectation:.2f}.hdf5\n",
      "filename batch_results/toymc_wimppower_wimpmass_{wimp_mass:d}_{inference_object_args[interaction]:s}_livetime_{livetime:.2f}_signal_{signal_expectation:.2f}.hdf5\n",
      "filename batch_results/toymc_wimppower_wimpmass_{wimp_mass:d}_{inference_object_args[interaction]:s}_livetime_{livetime:.2f}_signal_{signal_expectation:.2f}.hdf5\n",
      "filename batch_results/toymc_wimppower_wimpmass_{wimp_mass:d}_{inference_object_args[interaction]:s}_livetime_{livetime:.2f}_signal_{signal_expectation:.2f}.hdf5\n",
      "filename batch_results/toymc_wimppower_wimpmass_{wimp_mass:d}_{inference_object_args[interaction]:s}_livetime_{livetime:.2f}_signal_{signal_expectation:.2f}.hdf5\n",
      "filename batch_results/toymc_wimppower_wimpmass_{wimp_mass:d}_{inference_object_args[interaction]:s}_livetime_{livetime:.2f}_signal_{signal_expectation:.2f}.hdf5\n",
      "filename batch_results/toymc_wimppower_wimpmass_{wimp_mass:d}_{inference_object_args[interaction]:s}_livetime_{livetime:.2f}_signal_{signal_expectation:.2f}.hdf5\n",
      "filename batch_results/toymc_wimppower_wimpmass_{wimp_mass:d}_{inference_object_args[interaction]:s}_livetime_{livetime:.2f}_signal_{signal_expectation:.2f}.hdf5\n",
      "filename batch_results/toymc_wimppower_wimpmass_{wimp_mass:d}_{inference_object_args[interaction]:s}_livetime_{livetime:.2f}_signal_{signal_expectation:.2f}.hdf5\n",
      "filename batch_results/toymc_wimppower_wimpmass_{wimp_mass:d}_{inference_object_args[interaction]:s}_livetime_{livetime:.2f}_signal_{signal_expectation:.2f}.hdf5\n",
      "filename batch_results/toymc_wimppower_wimpmass_{wimp_mass:d}_{inference_object_args[interaction]:s}_livetime_{livetime:.2f}_signal_{signal_expectation:.2f}.hdf5\n",
      "filename batch_results/toymc_wimppower_wimpmass_{wimp_mass:d}_{inference_object_args[interaction]:s}_livetime_{livetime:.2f}_signal_{signal_expectation:.2f}.hdf5\n",
      "filename batch_results/toymc_wimppower_wimpmass_{wimp_mass:d}_{inference_object_args[interaction]:s}_livetime_{livetime:.2f}_signal_{signal_expectation:.2f}.hdf5\n",
      "filename batch_results/toymc_wimppower_wimpmass_{wimp_mass:d}_{inference_object_args[interaction]:s}_livetime_{livetime:.2f}_signal_{signal_expectation:.2f}.hdf5\n",
      "filename batch_results/toymc_wimppower_wimpmass_{wimp_mass:d}_{inference_object_args[interaction]:s}_livetime_{livetime:.2f}_signal_{signal_expectation:.2f}.hdf5\n",
      "filename batch_results/toymc_wimppower_wimpmass_{wimp_mass:d}_{inference_object_args[interaction]:s}_livetime_{livetime:.2f}_signal_{signal_expectation:.2f}.hdf5\n",
      "filename batch_results/toymc_wimppower_wimpmass_{wimp_mass:d}_{inference_object_args[interaction]:s}_livetime_{livetime:.2f}_signal_{signal_expectation:.2f}.hdf5\n",
      "filename batch_results/toymc_wimppower_wimpmass_{wimp_mass:d}_{inference_object_args[interaction]:s}_livetime_{livetime:.2f}_signal_{signal_expectation:.2f}.hdf5\n",
      "filename batch_results/toymc_wimppower_wimpmass_{wimp_mass:d}_{inference_object_args[interaction]:s}_livetime_{livetime:.2f}_signal_{signal_expectation:.2f}.hdf5\n",
      "filename batch_results/toymc_wimppower_wimpmass_{wimp_mass:d}_{inference_object_args[interaction]:s}_livetime_{livetime:.2f}_signal_{signal_expectation:.2f}.hdf5\n",
      "filename batch_results/toymc_wimppower_wimpmass_{wimp_mass:d}_{inference_object_args[interaction]:s}_livetime_{livetime:.2f}_signal_{signal_expectation:.2f}.hdf5\n",
      "filename batch_results/toymc_wimppower_wimpmass_{wimp_mass:d}_{inference_object_args[interaction]:s}_livetime_{livetime:.2f}_signal_{signal_expectation:.2f}.hdf5\n",
      "filename batch_results/toymc_wimppower_wimpmass_{wimp_mass:d}_{inference_object_args[interaction]:s}_livetime_{livetime:.2f}_signal_{signal_expectation:.2f}.hdf5\n",
      "filename batch_results/toymc_wimppower_wimpmass_{wimp_mass:d}_{inference_object_args[interaction]:s}_livetime_{livetime:.2f}_signal_{signal_expectation:.2f}.hdf5\n",
      "filename batch_results/toymc_wimppower_wimpmass_{wimp_mass:d}_{inference_object_args[interaction]:s}_livetime_{livetime:.2f}_signal_{signal_expectation:.2f}.hdf5\n",
      "filename batch_results/toymc_wimppower_wimpmass_{wimp_mass:d}_{inference_object_args[interaction]:s}_livetime_{livetime:.2f}_signal_{signal_expectation:.2f}.hdf5\n",
      "filename batch_results/toymc_wimppower_wimpmass_{wimp_mass:d}_{inference_object_args[interaction]:s}_livetime_{livetime:.2f}_signal_{signal_expectation:.2f}.hdf5\n"
     ]
    },
    {
     "name": "stdout",
     "output_type": "stream",
     "text": [
      "filename batch_results/toymc_wimppower_wimpmass_{wimp_mass:d}_{inference_object_args[interaction]:s}_livetime_{livetime:.2f}_signal_{signal_expectation:.2f}.hdf5\n",
      "filename batch_results/toymc_wimppower_wimpmass_{wimp_mass:d}_{inference_object_args[interaction]:s}_livetime_{livetime:.2f}_signal_{signal_expectation:.2f}.hdf5\n",
      "filename batch_results/toymc_wimppower_wimpmass_{wimp_mass:d}_{inference_object_args[interaction]:s}_livetime_{livetime:.2f}_signal_{signal_expectation:.2f}.hdf5\n",
      "filename batch_results/toymc_wimppower_wimpmass_{wimp_mass:d}_{inference_object_args[interaction]:s}_livetime_{livetime:.2f}_signal_{signal_expectation:.2f}.hdf5\n",
      "filename batch_results/toymc_wimppower_wimpmass_{wimp_mass:d}_{inference_object_args[interaction]:s}_livetime_{livetime:.2f}_signal_{signal_expectation:.2f}.hdf5\n",
      "filename batch_results/toymc_wimppower_wimpmass_{wimp_mass:d}_{inference_object_args[interaction]:s}_livetime_{livetime:.2f}_signal_{signal_expectation:.2f}.hdf5\n",
      "378 batch_results/toymc_wimppower_wimpmass_4_SI_livetime_100.00_signal_0.00_0.hdf5 batch_results/toymc_wimppower_wimpmass_10_SI_livetime_1000.00_signal_2000.00_0.hdf5\n"
     ]
    }
   ],
   "source": [
    "fnames, calls = toymc_to_sbatch_call_array(parameters_to_vary=parameters_to_vary,\n",
    "                                           parameters_to_zip = parameters_to_zip,\n",
    "                                           parameters_in_common=parameters_in_common)\n",
    "print(len(fnames),fnames[0],fnames[-1])"
   ]
  },
  {
   "cell_type": "code",
   "execution_count": 68,
   "metadata": {},
   "outputs": [
    {
     "name": "stderr",
     "output_type": "stream",
     "text": [
      "100%|██████████| 378/378 [00:48<00:00,  7.83it/s]\n"
     ]
    }
   ],
   "source": [
    "if True:\n",
    "    submit_commandline_calls(calls, fnames, max_jobs=400, run_if_file_exists=False)"
   ]
  },
  {
   "cell_type": "code",
   "execution_count": 74,
   "metadata": {},
   "outputs": [],
   "source": []
  },
  {
   "cell_type": "code",
   "execution_count": 75,
   "metadata": {},
   "outputs": [
    {
     "data": {
      "text/plain": [
       "[0.0,\n",
       " 10.0,\n",
       " 20.0,\n",
       " 30.0,\n",
       " 40.0,\n",
       " 50.0,\n",
       " 60.0,\n",
       " 70.0,\n",
       " 80.0,\n",
       " 90.0,\n",
       " 100.0,\n",
       " 110.0,\n",
       " 120.0,\n",
       " 130.0,\n",
       " 140.0,\n",
       " 150.0,\n",
       " 160.0,\n",
       " 170.0,\n",
       " 180.0,\n",
       " 190.0,\n",
       " 200.0,\n",
       " 210.0,\n",
       " 220.0,\n",
       " 230.0,\n",
       " 240.0,\n",
       " 250.0,\n",
       " 260.0,\n",
       " 270.0,\n",
       " 280.0,\n",
       " 290.0,\n",
       " 300.0,\n",
       " 400.0,\n",
       " 500.0,\n",
       " 600.0,\n",
       " 700.0,\n",
       " 800.0,\n",
       " 900.0,\n",
       " 1000.0,\n",
       " 1100.0,\n",
       " 1200.0,\n",
       " 1300.0,\n",
       " 1400.0,\n",
       " 1500.0,\n",
       " 1600.0,\n",
       " 1700.0,\n",
       " 1800.0,\n",
       " 1900.0,\n",
       " 2000.0]"
      ]
     },
     "execution_count": 75,
     "metadata": {},
     "output_type": "execute_result"
    }
   ],
   "source": [
    "signal_expectations"
   ]
  },
  {
   "cell_type": "code",
   "execution_count": 117,
   "metadata": {},
   "outputs": [],
   "source": [
    "def getmu(fpat=\"*.hdf5\",component=\"signal\"):\n",
    "    fn = glob(fpat)[0]\n",
    "    ret = -1\n",
    "    with h5py.File(fn) as f:\n",
    "        ret = loads(f.attrs[\"nominal_expectations\"])\n",
    "    if component is not None:\n",
    "        ret = ret[component]\n",
    "    return ret"
   ]
  },
  {
   "cell_type": "code",
   "execution_count": 124,
   "metadata": {},
   "outputs": [
    {
     "name": "stderr",
     "output_type": "stream",
     "text": [
      "100%|██████████| 17/17 [01:38<00:00,  5.81s/it]\n"
     ]
    }
   ],
   "source": [
    "output_pattern = \"batch_results/toymc_wimppower_wimpmass_{wimp_mass:d}_SI_livetime_{livetime:.2f}_signal_{signal_expectation:.2f}*.hdf5\"\n",
    "power_dict = dict()\n",
    "wimp_masses = [4,5,6,7,8,10,15,20,30,40,50,70,100,200,300,400,1000]\n",
    "livetimes= [100,200,1000]\n",
    "signal_expectations = sorted(set(np.concatenate([np.linspace(0,300,31),\n",
    "                                                 np.linspace(0,2000,21)])))\n",
    "for wimp_mass in tqdm(wimp_masses):\n",
    "    for livetime in livetimes:\n",
    "        for sigmat in [3,5]:\n",
    "            llr_threshold = sps.chi2(1).isf(2.*sps.norm().sf(sigmat)) # asymptotic chernov llr discovery threshold\n",
    "            mus = []\n",
    "            powers = []\n",
    "            nominal_expectation = -1\n",
    "            for signal_expectation in signal_expectations:\n",
    "                try:\n",
    "                    fns = output_pattern.format(wimp_mass = wimp_mass,\n",
    "                                               livetime=livetime, \n",
    "                                               signal_expectation = signal_expectation)\n",
    "                    res = toyfiles_to_numpy(fns)\n",
    "                    llrs = 2*(res[\"0\"][\"ll\"] - res[\"1\"][\"ll\"])\n",
    "                    power = np.mean(llr_threshold < llrs)\n",
    "                    nominal_expectation = getmu(fns,\"signal\")\n",
    "                    mus.append(signal_expectation)\n",
    "                    powers.append(power)\n",
    "                except:\n",
    "                    pass\n",
    "            power_dict[wimp_mass, livetime,sigmat] = (nominal_expectation,np.array(mus),np.array(powers))"
   ]
  },
  {
   "cell_type": "code",
   "execution_count": 128,
   "metadata": {},
   "outputs": [],
   "source": [
    "medpower_dict = dict()\n",
    "for livetime in livetimes:\n",
    "    for sigmat in [3,5]:\n",
    "        wms = []\n",
    "        sigmas = []\n",
    "        for wimp_mass in wimp_masses:\n",
    "            musig,x,y = power_dict[wimp_mass, livetime,sigmat]\n",
    "            fint = interp1d(y,1e-45*x/musig,bounds_error=False,fill_value=np.inf)\n",
    "            sigma = fint(0.5)\n",
    "            wms.append(wimp_mass)\n",
    "            sigmas.append(sigma)\n",
    "        medpower_dict[livetime,sigmat] = np.array(wms), np.array(sigmas)\n",
    "        \n",
    "        "
   ]
  },
  {
   "cell_type": "code",
   "execution_count": 129,
   "metadata": {},
   "outputs": [
    {
     "data": {
      "image/png": "[encoded data removed]",
      "text/plain": [
       "<matplotlib.figure.Figure at 0x7ff20b4b8668>"
      ]
     },
     "metadata": {
      "needs_background": "light"
     },
     "output_type": "display_data"
    }
   ],
   "source": [
    "plt.clf()\n",
    "for livetime in livetimes:\n",
    "    for sigmat in [3,5]:\n",
    "        x,y = medpower_dict[livetime,sigmat]\n",
    "        if sigmat == 3:\n",
    "            linestyle=\"--\"\n",
    "        else:\n",
    "            linestyle=\"-\"\n",
    "        plt.plot(x,y,linestyle=linestyle)\n",
    "plt.xscale(\"log\")\n",
    "plt.yscale(\"log\")\n",
    "plt.show()"
   ]
  },
  {
   "cell_type": "code",
   "execution_count": 130,
   "metadata": {},
   "outputs": [],
   "source": [
    "np.savez(\"medpower_results.npz\",medpower_dict = medpower_dict)"
   ]
  },
  {
   "cell_type": "code",
   "execution_count": 121,
   "metadata": {},
   "outputs": [
    {
     "data": {
      "image/png": "[encoded data removed]",
      "text/plain": [
       "<matplotlib.figure.Figure at 0x7ff20b37d7f0>"
      ]
     },
     "metadata": {
      "needs_background": "light"
     },
     "output_type": "display_data"
    }
   ],
   "source": [
    "plt.clf()\n",
    "wimp_mass = 6\n",
    "for livetime in livetimes:\n",
    "    musig,x,y = power_dict[wimp_mass, livetime]\n",
    "    plt.plot(x/musig,y)\n",
    "plt.xscale(\"log\")\n",
    "plt.xlim(0.1,10)\n",
    "plt.show()"
   ]
  },
  {
   "cell_type": "code",
   "execution_count": 97,
   "metadata": {},
   "outputs": [
    {
     "data": {
      "image/png": "[encoded data removed]",
      "text/plain": [
       "<matplotlib.figure.Figure at 0x7ff2100c6278>"
      ]
     },
     "metadata": {
      "needs_background": "light"
     },
     "output_type": "display_data"
    }
   ],
   "source": [
    "plt.clf()\n",
    "wimp_mass = 6\n",
    "for livetime in livetimes:\n",
    "    x,y = power_dict[wimp_mass, livetime]\n",
    "    plt.plot(x,y)\n",
    "plt.xscale(\"log\")\n",
    "#plt.xlim(0.1,2000)\n",
    "plt.show()"
   ]
  },
  {
   "cell_type": "code",
   "execution_count": 38,
   "metadata": {},
   "outputs": [
    {
     "data": {
      "text/plain": [
       "(array([  0.,  10.,  20.,  30.,  40.,  50.,  60.,  70.,  80.,  90., 100.,\n",
       "        110., 120., 130., 140., 150., 160., 170., 180., 190., 200.]),\n",
       " array([0.   , 0.   , 0.   , 0.   , 0.   , 0.   , 0.   , 0.   , 0.   ,\n",
       "        0.   , 0.   , 0.   , 0.   , 0.   , 0.001, 0.   , 0.   , 0.   ,\n",
       "        0.   , 0.   , 0.   ]))"
      ]
     },
     "execution_count": 38,
     "metadata": {},
     "output_type": "execute_result"
    }
   ],
   "source": [
    "x,y"
   ]
  },
  {
   "cell_type": "code",
   "execution_count": 23,
   "metadata": {},
   "outputs": [
    {
     "data": {
      "text/plain": [
       "25.000000000000004"
      ]
     },
     "execution_count": 23,
     "metadata": {},
     "output_type": "execute_result"
    }
   ],
   "source": [
    "sps.chi2(1).isf(2*sps.norm().sf(5))"
   ]
  },
  {
   "cell_type": "code",
   "execution_count": 99,
   "metadata": {},
   "outputs": [],
   "source": [
    "fn = output_pattern.format(wimp_mass=6, livetime=100., signal_expectation = 200)"
   ]
  },
  {
   "cell_type": "code",
   "execution_count": null,
   "metadata": {},
   "outputs": [],
   "source": [
    "deg "
   ]
  },
  {
   "cell_type": "code",
   "execution_count": 105,
   "metadata": {},
   "outputs": [],
   "source": [
    "fn = glob(fn)[0]"
   ]
  },
  {
   "cell_type": "code",
   "execution_count": 106,
   "metadata": {},
   "outputs": [
    {
     "data": {
      "text/plain": [
       "'batch_results/toymc_wimppower_wimpmass_6_SI_livetime_100.00_signal_200.00_0.hdf5'"
      ]
     },
     "execution_count": 106,
     "metadata": {},
     "output_type": "execute_result"
    }
   ],
   "source": [
    "fn"
   ]
  },
  {
   "cell_type": "code",
   "execution_count": 114,
   "metadata": {},
   "outputs": [
    {
     "name": "stdout",
     "output_type": "stream",
     "text": [
      "['nominal_expectations', 'signal_expectation', 'version', 'signal_component_name', 'generate_args', 'date']\n",
      "{\"xe136\": 2387.192563574009, \"ernusun\": 4743.190594088911, \"atmnu\": 4.26829218468601, \"snnu\": 0.8984795238390717, \"signal\": 134.2659906921072, \"nrnusun\": 549.0770989959811}\n"
     ]
    }
   ],
   "source": [
    "with h5py.File(fn) as f:\n",
    "    print(list(f.attrs.keys()))\n",
    "    print(f.attrs[\"nominal_expectations\"])"
   ]
  },
  {
   "cell_type": "code",
   "execution_count": 63,
   "metadata": {},
   "outputs": [],
   "source": [
    "res = toyfiles_to_numpy(output_pattern.format(wimp_mass=6, livetime=100., signal_expectation = 200))"
   ]
  },
  {
   "cell_type": "code",
   "execution_count": 64,
   "metadata": {},
   "outputs": [],
   "source": [
    "llrs = 2*(res[\"0\"][\"ll\"] - res[\"1\"][\"ll\"])"
   ]
  },
  {
   "cell_type": "code",
   "execution_count": 65,
   "metadata": {},
   "outputs": [
    {
     "data": {
      "text/plain": [
       "0.981"
      ]
     },
     "execution_count": 65,
     "metadata": {},
     "output_type": "execute_result"
    }
   ],
   "source": [
    "np.mean(llr_threshold<llrs)"
   ]
  },
  {
   "cell_type": "code",
   "execution_count": null,
   "metadata": {},
   "outputs": [],
   "source": []
  }
 ],
 "metadata": {
  "kernelspec": {
   "display_name": "Python 3",
   "language": "python",
   "name": "python3"
  },
  "language_info": {
   "codemirror_mode": {
    "name": "ipython",
    "version": 3
   },
   "file_extension": ".py",
   "mimetype": "text/x-python",
   "name": "python",
   "nbconvert_exporter": "python",
   "pygments_lexer": "ipython3",
   "version": "3.4.4"
  }
 },
 "nbformat": 4,
 "nbformat_minor": 2
}
